{
 "cells": [
  {
   "cell_type": "markdown",
   "metadata": {},
   "source": [
    "# Libs"
   ]
  },
  {
   "cell_type": "code",
   "execution_count": 1,
   "metadata": {},
   "outputs": [
    {
     "name": "stderr",
     "output_type": "stream",
     "text": [
      "2023-04-03 12:35:22.852591: W tensorflow/stream_executor/platform/default/dso_loader.cc:64] Could not load dynamic library 'libcudart.so.11.0'; dlerror: libcudart.so.11.0: cannot open shared object file: No such file or directory\n",
      "2023-04-03 12:35:22.852615: I tensorflow/stream_executor/cuda/cudart_stub.cc:29] Ignore above cudart dlerror if you do not have a GPU set up on your machine.\n"
     ]
    }
   ],
   "source": [
    "import time\n",
    "from functools import partial\n",
    "\n",
    "import numpy as np\n",
    "import pandas as pd\n",
    "import seaborn as sns\n",
    "import tensorflow as tf\n",
    "import tensorflow_datasets as tfds\n",
    "import tensorflow_probability as tfp\n",
    "from bernstein_flow.activations import get_thetas_constrain_fn\n",
    "from bernstein_flow.bijectors import BernsteinBijectorLinearExtrapolate\n",
    "from bernstein_flow.distributions import BernsteinFlow\n",
    "from bernstein_flow.util.visualization import plot_flow\n",
    "from matplotlib import pyplot as plt\n",
    "from sklearn import datasets\n",
    "from sklearn.compose import make_column_transformer\n",
    "from sklearn.model_selection import train_test_split\n",
    "from sklearn.preprocessing import MinMaxScaler, StandardScaler\n",
    "from tensorflow import keras as K\n",
    "from tensorflow_probability import bijectors as tfb\n",
    "from tensorflow_probability import distributions as tfd\n",
    "from tensorflow_probability.python.internal import (\n",
    "    dtype_util,\n",
    "    prefer_static,\n",
    "    tensor_util,\n",
    ")"
   ]
  },
  {
   "cell_type": "markdown",
   "metadata": {
    "tags": []
   },
   "source": [
    "# Seed"
   ]
  },
  {
   "cell_type": "code",
   "execution_count": 2,
   "metadata": {},
   "outputs": [],
   "source": [
    "def set_seed(seed):\n",
    "    np.random.seed(seed)\n",
    "    tf.random.set_seed(seed)"
   ]
  },
  {
   "cell_type": "markdown",
   "metadata": {},
   "source": [
    "# Functions"
   ]
  },
  {
   "cell_type": "code",
   "execution_count": 3,
   "metadata": {},
   "outputs": [],
   "source": [
    "# Construct and fit model.\n",
    "# @tf.function\n",
    "def fit_distribution(\n",
    "    model,\n",
    "    learning_rate=0.001,\n",
    "    lr_patience=5,\n",
    "    monitor=\"loss\",\n",
    "    **kwds,\n",
    "):\n",
    "    set_seed(1)\n",
    "    model.compile(\n",
    "        optimizer=tf.optimizers.Adam(learning_rate=learning_rate),\n",
    "        loss=lambda y, dist: -dist.log_prob(y),\n",
    "    )\n",
    "\n",
    "    callbacks = [\n",
    "        tf.keras.callbacks.ReduceLROnPlateau(\n",
    "            monitor=monitor,\n",
    "            factor=0.1,\n",
    "            patience=lr_patience,\n",
    "        ),\n",
    "        tf.keras.callbacks.EarlyStopping(\n",
    "            monitor=monitor,\n",
    "            patience=3 * lr_patience,\n",
    "            restore_best_weights=True,\n",
    "        ),\n",
    "        tf.keras.callbacks.TerminateOnNaN(),\n",
    "    ]\n",
    "\n",
    "    return model.fit(\n",
    "        shuffle=True,\n",
    "        callbacks=callbacks,\n",
    "        **kwds,\n",
    "    )"
   ]
  },
  {
   "cell_type": "code",
   "execution_count": 4,
   "metadata": {},
   "outputs": [],
   "source": [
    "def plot_samples(dist, train_data, seed=1, ax=plt):\n",
    "    set_seed(seed)\n",
    "    N = train_data.shape[0]\n",
    "    # Use the fitted distribution.\n",
    "    start = time.time()\n",
    "    samples = dist.sample((N,))\n",
    "    end = time.time()\n",
    "    print(f\"sampling took {end-start} seconds.\")\n",
    "\n",
    "    df1 = pd.DataFrame(columns=[\"x1\", \"x2\"], data=train_data)\n",
    "    df1 = df1.assign(source=\"data\")\n",
    "\n",
    "    df2 = pd.DataFrame(columns=[\"x1\", \"x2\"], data=samples.numpy())\n",
    "    df2 = df2.assign(source=\"model\")\n",
    "\n",
    "    df = df1.append(df2, ignore_index=True)\n",
    "\n",
    "    # sns.jointplot(data=df, x='x1', y='x2', hue='source', kind='kde')\n",
    "    g = sns.jointplot(data=df, x=\"x1\", y=\"x2\", hue=\"source\", ax=plt)\n",
    "    g.plot_joint(sns.kdeplot, zorder=0)\n",
    "    # g.plot_marginals(sns.rugplot, height=-.15)"
   ]
  },
  {
   "cell_type": "markdown",
   "metadata": {},
   "source": [
    "# Data"
   ]
  },
  {
   "cell_type": "code",
   "execution_count": 5,
   "metadata": {
    "tags": []
   },
   "outputs": [
    {
     "name": "stderr",
     "output_type": "stream",
     "text": [
      "2023-04-03 12:35:26.753638: W tensorflow/stream_executor/platform/default/dso_loader.cc:64] Could not load dynamic library 'libcuda.so.1'; dlerror: libcuda.so.1: cannot open shared object file: No such file or directory\n",
      "2023-04-03 12:35:26.753661: W tensorflow/stream_executor/cuda/cuda_driver.cc:269] failed call to cuInit: UNKNOWN ERROR (303)\n",
      "2023-04-03 12:35:26.753690: I tensorflow/stream_executor/cuda/cuda_diagnostics.cc:156] kernel driver does not appear to be running on this host (arch.microos-tp): /proc/driver/nvidia/version does not exist\n",
      "2023-04-03 12:35:26.754007: I tensorflow/core/platform/cpu_feature_guard.cc:193] This TensorFlow binary is optimized with oneAPI Deep Neural Network Library (oneDNN) to use the following CPU instructions in performance-critical operations:  AVX2 FMA\n",
      "To enable them in other operations, rebuild TensorFlow with the appropriate compiler flags.\n"
     ]
    }
   ],
   "source": [
    "(ds_train, ds_test), ds_info = tfds.load(\n",
    "    \"mnist\",\n",
    "    split=[\"train\", \"test\"],\n",
    "    shuffle_files=True,\n",
    "    as_supervised=True,\n",
    "    with_info=True,\n",
    ")"
   ]
  },
  {
   "cell_type": "code",
   "execution_count": 6,
   "metadata": {
    "tags": []
   },
   "outputs": [
    {
     "data": {
      "text/plain": [
       "tfds.core.DatasetInfo(\n",
       "    name='mnist',\n",
       "    full_name='mnist/3.0.1',\n",
       "    description=\"\"\"\n",
       "    The MNIST database of handwritten digits.\n",
       "    \"\"\",\n",
       "    homepage='http://yann.lecun.com/exdb/mnist/',\n",
       "    data_path='/home/work/tensorflow_datasets/mnist/3.0.1',\n",
       "    file_format=tfrecord,\n",
       "    download_size=11.06 MiB,\n",
       "    dataset_size=21.00 MiB,\n",
       "    features=FeaturesDict({\n",
       "        'image': Image(shape=(28, 28, 1), dtype=uint8),\n",
       "        'label': ClassLabel(shape=(), dtype=int64, num_classes=10),\n",
       "    }),\n",
       "    supervised_keys=('image', 'label'),\n",
       "    disable_shuffling=False,\n",
       "    splits={\n",
       "        'test': <SplitInfo num_examples=10000, num_shards=1>,\n",
       "        'train': <SplitInfo num_examples=60000, num_shards=1>,\n",
       "    },\n",
       "    citation=\"\"\"@article{lecun2010mnist,\n",
       "      title={MNIST handwritten digit database},\n",
       "      author={LeCun, Yann and Cortes, Corinna and Burges, CJ},\n",
       "      journal={ATT Labs [Online]. Available: http://yann.lecun.com/exdb/mnist},\n",
       "      volume={2},\n",
       "      year={2010}\n",
       "    }\"\"\",\n",
       ")"
      ]
     },
     "execution_count": 6,
     "metadata": {},
     "output_type": "execute_result"
    }
   ],
   "source": [
    "ds_info"
   ]
  },
  {
   "cell_type": "markdown",
   "metadata": {
    "tags": []
   },
   "source": [
    "## Build a training pipeline"
   ]
  },
  {
   "cell_type": "code",
   "execution_count": 7,
   "metadata": {
    "tags": []
   },
   "outputs": [],
   "source": [
    "def normalize_img(image, label):\n",
    "    \"\"\"Normalizes images: `uint8` -> `float32`.\"\"\"\n",
    "    return tf.cast(image, tf.float32) / 255.0, label"
   ]
  },
  {
   "cell_type": "code",
   "execution_count": 8,
   "metadata": {
    "tags": []
   },
   "outputs": [],
   "source": [
    "ds_train = ds_train.map(normalize_img, num_parallel_calls=tf.data.AUTOTUNE)\n",
    "ds_train = ds_train.cache()\n",
    "ds_train = ds_train.shuffle(ds_info.splits[\"train\"].num_examples)\n",
    "ds_train = ds_train.batch(128)\n",
    "ds_train = ds_train.prefetch(tf.data.AUTOTUNE)"
   ]
  },
  {
   "cell_type": "markdown",
   "metadata": {},
   "source": [
    "## Build an evaluation pipeline"
   ]
  },
  {
   "cell_type": "code",
   "execution_count": 9,
   "metadata": {
    "tags": []
   },
   "outputs": [],
   "source": [
    "ds_test = ds_test.map(normalize_img, num_parallel_calls=tf.data.AUTOTUNE)\n",
    "ds_test = ds_test.batch(128)\n",
    "ds_test = ds_test.cache()\n",
    "ds_test = ds_test.prefetch(tf.data.AUTOTUNE)"
   ]
  },
  {
   "cell_type": "markdown",
   "metadata": {
    "tags": []
   },
   "source": [
    "## Plot Exampes"
   ]
  },
  {
   "cell_type": "code",
   "execution_count": 10,
   "metadata": {
    "tags": []
   },
   "outputs": [],
   "source": [
    "it = ds_train.as_numpy_iterator()"
   ]
  },
  {
   "cell_type": "code",
   "execution_count": 11,
   "metadata": {
    "tags": []
   },
   "outputs": [],
   "source": [
    "x, y = next(it)"
   ]
  },
  {
   "cell_type": "code",
   "execution_count": 12,
   "metadata": {
    "tags": []
   },
   "outputs": [
    {
     "data": {
      "image/png": "[encoded data removed]",
      "text/plain": [
       "<Figure size 750x400 with 10 Axes>"
      ]
     },
     "metadata": {},
     "output_type": "display_data"
    }
   ],
   "source": [
    "num_row = 2\n",
    "num_col = 5  # plot images\n",
    "fig, axes = plt.subplots(num_row, num_col, figsize=(1.5 * num_col, 2 * num_row))\n",
    "for i in range(num_row * num_col):\n",
    "    ax = axes[i // num_col, i % num_col]\n",
    "    ax.imshow(x[i], cmap=\"gray\")\n",
    "    ax.set_title(\"Label: {}\".format(y[i]))\n",
    "plt.tight_layout()\n",
    "plt.show()"
   ]
  },
  {
   "cell_type": "markdown",
   "metadata": {},
   "source": [
    "# Gropp 2022: Iseomtric Autoencoder\n",
    "\n",
    "High dimensional data is often assumed to be concentrated on or near a low-dimensional manifold. Autoencoders (AE) is a popular technique to learn representations of such data by pushing it through a neural network with a low dimension bottleneck while minimizing a reconstruction error. Using high capacity AE often leads to a large collection of minimizers, many of which represent a low dimensional manifold that fits the data well but generalizes poorly.\n",
    "Two sources of bad generalization are: extrinsic, where the learned manifold possesses extraneous parts that are far from the data; and intrinsic, where the encoder and decoder introduce arbitrary distortion in the low dimensional parameterization. An approach taken to alleviate these issues is to add a regularizer that favors a particular solution; common regularizers promote sparsity, small derivatives, or robustness to noise.\n",
    "In this paper, we advocate an isometry (i.e., local distance preserving) regularizer.\n",
    "\n",
    "Specifically, our regularizer encourages: \n",
    "\n",
    " 1. the decoder to be an isometry;\n",
    "\n",
    "end \n",
    "\n",
    " 2. the encoder to be the decoder's pseudo-inverse, that is, the encoder extends the inverse of the decoder to the ambient space by orthogonal projection.\n",
    " \n",
    "In a nutshell, (1) and (2) fix both intrinsic and extrinsic degrees of freedom and provide a non-linear generalization to principal component analysis (PCA). Experimenting with the isometry regularizer on dimensionality reduction tasks produces useful low-dimensional data representations. "
   ]
  },
  {
   "cell_type": "code",
   "execution_count": 13,
   "metadata": {
    "tags": []
   },
   "outputs": [],
   "source": [
    "class IAE(tf.keras.Model):\n",
    "    \"\"\"\n",
    "    Isometric Autoencoder (I-AE):\n",
    "    Original publication: Gropp, Amos, Matan Atzmon, and Yaron Lipman. \"Isometric autoencoders.\" arXiv preprint arXiv:2006.09289 (2020).\n",
    "    Code written by:\n",
    "        - Felix Rauh (FZJ: IEK-10, RWTH)\n",
    "        - Eike Cramer (FZJ: IEK-10, RWTH)\n",
    "\n",
    "    Autoencoding:\n",
    "        z = g(x)\n",
    "        x = f(z) = f(g(x))\n",
    "\n",
    "    I-AE enforces an autoencoder with isometric decoding:\n",
    "        J_{decode}^T * J_{decode} = I,\n",
    "    and encoder the pseudo inverse of decoder:\n",
    "        J_{encode} * J_{encode}^T = I.\n",
    "    \"\"\"\n",
    "\n",
    "    def __init__(\n",
    "        self,\n",
    "        encoder,\n",
    "        decoder,\n",
    "        N_U=20,\n",
    "        N_Z=20,\n",
    "        lambda_iso=0.1,\n",
    "        lambda_piso=0.1,\n",
    "        name=\"isometric_ae\",\n",
    "    ):\n",
    "        super().__init__(name=name)\n",
    "\n",
    "        # Network set up\n",
    "        self.encoder = encoder  # g(x)\n",
    "        self.decoder = decoder  # f(z)\n",
    "\n",
    "        # Distribution of unit vectors 'u' (assumes 1D latent space)\n",
    "        self.u_dist = tfd.SphericalUniform(self.encoder.output_shape[-1])\n",
    "\n",
    "        # hyperparameters\n",
    "        self.lambda_iso = lambda_iso  # loss function weight iso-loss\n",
    "        self.lambda_piso = lambda_piso  # loss function weight piso-loss\n",
    "        self.N_U = N_U  # Number of Monte Carlo samples for expectation over u\n",
    "        self.N_Z = N_Z  # Number of Monte Carlo samples for expectation over z\n",
    "\n",
    "        # loss trackers. only to track progress\n",
    "        self.loss_tracker = tf.keras.metrics.Mean(name=\"loss\")\n",
    "        self.MSEloss_tracker = tf.keras.metrics.Mean(name=\"MSEloss\")\n",
    "        self.ISOloss_tracker = tf.keras.metrics.Mean(name=\"ISOloss\")\n",
    "        self.PISOloss_tracker = tf.keras.metrics.Mean(name=\"PISOloss\")\n",
    "\n",
    "    @property\n",
    "    def metrics(self):\n",
    "        \"\"\"List of the model's metrics.\n",
    "        We make sure the loss tracker is listed as part of `model.metrics`\n",
    "        so that `fit()` and `evaluate()` are able to `reset()` the loss tracker\n",
    "        at the start of each epoch and at the start of an `evaluate()` call.\n",
    "        \"\"\"\n",
    "        return [\n",
    "            self.loss_tracker,\n",
    "            self.MSEloss_tracker,\n",
    "            self.ISOloss_tracker,\n",
    "            self.PISOloss_tracker,\n",
    "        ]\n",
    "\n",
    "    def encode(self, x):\n",
    "        return self.encoder(x)\n",
    "\n",
    "    def decode(self, z):\n",
    "        return self.decoder(z)\n",
    "\n",
    "    def fit_and_sample_z(self, z, shape=(1,)):\n",
    "        loc, scale = tf.nn.moments(z, axes=[0])  # moments over batch\n",
    "        return tfd.Sample(  # gets dim from dim(loc)\n",
    "            tfd.MultivariateNormalDiag(loc=loc, scale_diag=scale, validate_args=False),\n",
    "            sample_shape=shape,\n",
    "        ).sample()\n",
    "\n",
    "    def sample_u(self, shape=(1,)):\n",
    "        return self.u_dist.sample(sample_shape=shape)\n",
    "\n",
    "    def iso_loss(self, encoding):\n",
    "        z = self.fit_and_sample_z(\n",
    "            encoding, shape=(self.N_Z,)\n",
    "        )  # fits Multivar. Gaussian to encoding and samples\n",
    "        with tf.GradientTape(\n",
    "            watch_accessed_variables=False\n",
    "        ) as IsoTape:  # to get Jacobian of f\n",
    "            IsoTape.watch(z)\n",
    "            z_hat = self.decode(z)  # f: decoding\n",
    "        jac_f = IsoTape.batch_jacobian(z_hat, z)  # Jacobian of decoding: J_f\n",
    "        iso_loss = self.Jacobian_Loss(jac_f, 2)\n",
    "        return tf.reduce_mean(iso_loss)  # axis=2 for last axis for tensordot\n",
    "\n",
    "    def piso_loss(self, batch):\n",
    "        \"\"\"\n",
    "        Piso Loss should be computed as expectation over Manifold:\n",
    "            E_M {(||u^T dg(x)||-1)^2} with: x \\in Manifold\n",
    "        Manifold is unknown so we use data instead and combine Piso Loss with encoding step\n",
    "        \"\"\"\n",
    "        with tf.GradientTape(\n",
    "            watch_accessed_variables=False\n",
    "        ) as PisoTape:  # to get Jacobian of g\n",
    "            PisoTape.watch(batch)\n",
    "            encoding = self.encode(batch)  # g: encoding\n",
    "        jac_g = PisoTape.batch_jacobian(encoding, batch)  # Jacobian of encoding: J_g\n",
    "        piso_loss = self.Jacobian_Loss(jac_g, 1)  # axis=1 to avoid transpose of 'u'\n",
    "        return encoding, tf.reduce_mean(piso_loss)  # reduce to 1D for compatibility\n",
    "\n",
    "    def Jacobian_Loss(self, jac, axis):  # Same for iso and piso\n",
    "        u = self.sample_u(shape=(self.N_U,))  # Sample new 'u'\n",
    "        loss = tf.tensordot(\n",
    "            jac, u, axes=[[axis], [-1]]\n",
    "        )  # tensorproduct of Jacobian and 'u'\n",
    "        loss = tf.norm(loss, axis=1)  # norm of tensorproduct: \"length\"\n",
    "        return tf.reduce_mean((loss - 1) ** 2, axis=-1)  # mse over \"length-1\"\n",
    "\n",
    "    def train_step(self, batch):\n",
    "        # Overall Gradient taping for all three parts of the loss\n",
    "        with tf.GradientTape() as Grad_Tape:  # for full loss\n",
    "            Grad_Tape.watch(self.trainable_variables)\n",
    "            # Pseudo inverse loss\n",
    "            encoding, piso_loss = self.piso_loss(batch)\n",
    "            # MSE Loss\n",
    "            reconstruction = self.decode(encoding)  # f: decoding\n",
    "            MSELoss = tf.reduce_mean(\n",
    "                tf.keras.losses.mean_squared_error(batch, reconstruction)\n",
    "            )\n",
    "            # isometry loss\n",
    "            iso_loss = self.iso_loss(encoding)\n",
    "            # total loss\n",
    "            loss = MSELoss + self.lambda_iso * iso_loss + self.lambda_piso * piso_loss\n",
    "\n",
    "        # Gradients and optimizer\n",
    "        grad = Grad_Tape.gradient(loss, self.trainable_variables)\n",
    "        self.optimizer.apply_gradients(zip(grad, self.trainable_variables))\n",
    "\n",
    "        # loss tracking\n",
    "        self.loss_tracker.update_state(loss)\n",
    "        self.MSEloss_tracker.update_state(MSELoss)\n",
    "        self.ISOloss_tracker.update_state(iso_loss)\n",
    "        self.PISOloss_tracker.update_state(piso_loss)\n",
    "        return {\n",
    "            \"loss\": self.loss_tracker.result(),\n",
    "            \"MSEloss\": self.MSEloss_tracker.result(),\n",
    "            \"ISOloss\": self.ISOloss_tracker.result(),\n",
    "            \"PISOloss\": self.PISOloss_tracker.result(),\n",
    "        }\n",
    "\n",
    "    def test_step(self, batch):\n",
    "        # Pseudo inverse loss\n",
    "        encoding, piso_loss = self.piso_loss(batch)\n",
    "        # MSE Loss\n",
    "        reconstruction = self.decode(encoding)  # f: decoding\n",
    "        MSELoss = tf.reduce_mean(\n",
    "            tf.keras.losses.mean_squared_error(batch, reconstruction)\n",
    "        )\n",
    "        # isometry loss\n",
    "        iso_loss = self.iso_loss(encoding)\n",
    "        # total loss\n",
    "        loss = MSELoss + self.lambda_iso * iso_loss + self.lambda_piso * piso_loss\n",
    "\n",
    "        # loss tracking\n",
    "        self.loss_tracker.update_state(loss)\n",
    "        self.MSEloss_tracker.update_state(MSELoss)\n",
    "        self.ISOloss_tracker.update_state(iso_loss)\n",
    "        self.PISOloss_tracker.update_state(piso_loss)\n",
    "        return {\n",
    "            \"loss\": self.loss_tracker.result(),\n",
    "            \"MSEloss\": self.MSEloss_tracker.result(),\n",
    "            \"ISOloss\": self.ISOloss_tracker.result(),\n",
    "            \"PISOloss\": self.PISOloss_tracker.result(),\n",
    "        }"
   ]
  },
  {
   "cell_type": "code",
   "execution_count": 14,
   "metadata": {
    "tags": []
   },
   "outputs": [],
   "source": [
    "class IAE2D(IAE):\n",
    "    \"\"\"\n",
    "    The 2D version of the I-AE is almost identical to the 1D version.\n",
    "    Unit vector norm implementation via reshape of jacobian-tensor to Jacobian matrix.\n",
    "\n",
    "    For encoder:\n",
    "    Jac_g = [BATCHDIM, LATENTDIM, DATADIM_1, DATADIM_2]\n",
    "    Reshape(Jac_g) = [BATCHDIM, LATENTDIM, DATADIM_1*DATADIM_2]\n",
    "\n",
    "    for decoder:\n",
    "    Jac_f = [BATCHDIM, DATADIM_1, DATADIM_2, LATENTDIM]\n",
    "    Reshape(Jac_f) = [BATCHDIM, DATADIM_1*DATADIM_2, LATENTDIM]\n",
    "    \"\"\"\n",
    "\n",
    "    def __init__(\n",
    "        self, encoder, decoder, N_U=20, N_Z=20, lambda_iso=0.1, lambda_piso=0.1\n",
    "    ):\n",
    "        super().__init__(\n",
    "            encoder,\n",
    "            decoder,\n",
    "            N_U=N_U,\n",
    "            N_Z=N_Z,\n",
    "            lambda_iso=lambda_iso,\n",
    "            lambda_piso=lambda_piso,\n",
    "        )\n",
    "\n",
    "        self.Reshape_Jac = [\n",
    "            0,\n",
    "            tf.keras.layers.Reshape(\n",
    "                target_shape=(\n",
    "                    self.encoder.output_shape[-1],\n",
    "                    self.encoder.input_shape[1] * self.encoder.input_shape[2],\n",
    "                )\n",
    "            ),\n",
    "            tf.keras.layers.Reshape(\n",
    "                target_shape=(\n",
    "                    self.decoder.output_shape[1] * self.decoder.output_shape[2],\n",
    "                    self.decoder.input_shape[-1],\n",
    "                )\n",
    "            ),\n",
    "        ]\n",
    "\n",
    "    def Jacobian_Loss(self, jac, axis):  # Same for iso and piso\n",
    "        u = self.sample_u(shape=(self.N_U,))  # Sample new 'u'\n",
    "        jac = self.Reshape_Jac[axis](jac)  # Reshape of Jacobian to matrix format\n",
    "        loss = tf.tensordot(\n",
    "            jac, u, axes=[[axis], [-1]]\n",
    "        )  # tensorproduct of Jacobian and 'u'\n",
    "        loss = tf.norm(loss, axis=1)  # norm of tensorproduct: \"length\"\n",
    "        loss = tf.math.square(loss - 1.0)\n",
    "        return tf.reduce_mean(loss, axis=-1)  # mse over \"length-1\""
   ]
  },
  {
   "cell_type": "markdown",
   "metadata": {
    "tags": []
   },
   "source": [
    "## Train I-AE"
   ]
  },
  {
   "cell_type": "code",
   "execution_count": 31,
   "metadata": {
    "tags": []
   },
   "outputs": [
    {
     "data": {
      "text/plain": [
       "tfds.core.DatasetInfo(\n",
       "    name='mnist',\n",
       "    full_name='mnist/3.0.1',\n",
       "    description=\"\"\"\n",
       "    The MNIST database of handwritten digits.\n",
       "    \"\"\",\n",
       "    homepage='http://yann.lecun.com/exdb/mnist/',\n",
       "    data_path='/home/work/tensorflow_datasets/mnist/3.0.1',\n",
       "    file_format=tfrecord,\n",
       "    download_size=11.06 MiB,\n",
       "    dataset_size=21.00 MiB,\n",
       "    features=FeaturesDict({\n",
       "        'image': Image(shape=(28, 28, 1), dtype=uint8),\n",
       "        'label': ClassLabel(shape=(), dtype=int64, num_classes=10),\n",
       "    }),\n",
       "    supervised_keys=('image', 'label'),\n",
       "    disable_shuffling=False,\n",
       "    splits={\n",
       "        'test': <SplitInfo num_examples=10000, num_shards=1>,\n",
       "        'train': <SplitInfo num_examples=60000, num_shards=1>,\n",
       "    },\n",
       "    citation=\"\"\"@article{lecun2010mnist,\n",
       "      title={MNIST handwritten digit database},\n",
       "      author={LeCun, Yann and Cortes, Corinna and Burges, CJ},\n",
       "      journal={ATT Labs [Online]. Available: http://yann.lecun.com/exdb/mnist},\n",
       "      volume={2},\n",
       "      year={2010}\n",
       "    }\"\"\",\n",
       ")"
      ]
     },
     "execution_count": 31,
     "metadata": {},
     "output_type": "execute_result"
    }
   ],
   "source": [
    "ds_info"
   ]
  },
  {
   "cell_type": "code",
   "execution_count": 15,
   "metadata": {
    "tags": []
   },
   "outputs": [],
   "source": [
    "ds_train_images = ds_train.map(lambda x, y: x)"
   ]
  },
  {
   "cell_type": "code",
   "execution_count": 39,
   "metadata": {
    "tags": []
   },
   "outputs": [
    {
     "name": "stdout",
     "output_type": "stream",
     "text": [
      "Epoch 1/100\n",
      "WARNING:tensorflow:From /home/work/mambaforge/envs/mctm/lib/python3.9/site-packages/tensorflow_probability/python/distributions/distribution.py:342: calling MultivariateNormalDiag.__init__ (from tensorflow_probability.python.distributions.mvn_diag) with scale_identity_multiplier is deprecated and will be removed after 2020-01-01.\n",
      "Instructions for updating:\n",
      "`scale_identity_multiplier` is deprecated; please combine it into `scale_diag` directly instead.\n"
     ]
    },
    {
     "name": "stderr",
     "output_type": "stream",
     "text": [
      "WARNING:tensorflow:From /home/work/mambaforge/envs/mctm/lib/python3.9/site-packages/tensorflow_probability/python/distributions/distribution.py:342: calling MultivariateNormalDiag.__init__ (from tensorflow_probability.python.distributions.mvn_diag) with scale_identity_multiplier is deprecated and will be removed after 2020-01-01.\n",
      "Instructions for updating:\n",
      "`scale_identity_multiplier` is deprecated; please combine it into `scale_diag` directly instead.\n"
     ]
    },
    {
     "name": "stdout",
     "output_type": "stream",
     "text": [
      "469/469 [==============================] - 70s 144ms/step - loss: 0.0492 - MSEloss: 0.0483 - ISOloss: 0.0058 - PISOloss: 0.0036\n",
      "Epoch 2/100\n",
      "469/469 [==============================] - 70s 148ms/step - loss: 0.0345 - MSEloss: 0.0339 - ISOloss: 0.0063 - PISOloss: 3.1811e-05\n",
      "Epoch 3/100\n",
      "469/469 [==============================] - 69s 146ms/step - loss: 0.0340 - MSEloss: 0.0333 - ISOloss: 0.0068 - PISOloss: 2.2736e-05\n",
      "Epoch 4/100\n",
      "469/469 [==============================] - 69s 147ms/step - loss: 0.0339 - MSEloss: 0.0332 - ISOloss: 0.0068 - PISOloss: 2.5157e-05\n",
      "Epoch 5/100\n",
      "469/469 [==============================] - 69s 148ms/step - loss: 0.0338 - MSEloss: 0.0331 - ISOloss: 0.0068 - PISOloss: 2.4878e-05\n",
      "Epoch 6/100\n",
      " 99/469 [=====>........................] - ETA: 58s - loss: 0.0338 - MSEloss: 0.0331 - ISOloss: 0.0069 - PISOloss: 2.6575e-05"
     ]
    },
    {
     "ename": "KeyboardInterrupt",
     "evalue": "",
     "output_type": "error",
     "traceback": [
      "\u001b[0;31m---------------------------------------------------------------------------\u001b[0m",
      "\u001b[0;31mKeyboardInterrupt\u001b[0m                         Traceback (most recent call last)",
      "Cell \u001b[0;32mIn[39], line 26\u001b[0m\n\u001b[1;32m     24\u001b[0m model \u001b[38;5;241m=\u001b[39m IAE2D(g, f)\n\u001b[1;32m     25\u001b[0m model\u001b[38;5;241m.\u001b[39mcompile(optimizer\u001b[38;5;241m=\u001b[39mtf\u001b[38;5;241m.\u001b[39mkeras\u001b[38;5;241m.\u001b[39moptimizers\u001b[38;5;241m.\u001b[39mAdam(learning_rate\u001b[38;5;241m=\u001b[39m\u001b[38;5;241m1e-3\u001b[39m))\n\u001b[0;32m---> 26\u001b[0m \u001b[43mmodel\u001b[49m\u001b[38;5;241;43m.\u001b[39;49m\u001b[43mfit\u001b[49m\u001b[43m(\u001b[49m\u001b[43mds_train_images\u001b[49m\u001b[43m,\u001b[49m\u001b[43m \u001b[49m\u001b[43mepochs\u001b[49m\u001b[38;5;241;43m=\u001b[39;49m\u001b[38;5;241;43m100\u001b[39;49m\u001b[43m)\u001b[49m\n",
      "File \u001b[0;32m~/mambaforge/envs/mctm/lib/python3.9/site-packages/keras/utils/traceback_utils.py:64\u001b[0m, in \u001b[0;36mfilter_traceback.<locals>.error_handler\u001b[0;34m(*args, **kwargs)\u001b[0m\n\u001b[1;32m     62\u001b[0m filtered_tb \u001b[38;5;241m=\u001b[39m \u001b[38;5;28;01mNone\u001b[39;00m\n\u001b[1;32m     63\u001b[0m \u001b[38;5;28;01mtry\u001b[39;00m:\n\u001b[0;32m---> 64\u001b[0m   \u001b[38;5;28;01mreturn\u001b[39;00m \u001b[43mfn\u001b[49m\u001b[43m(\u001b[49m\u001b[38;5;241;43m*\u001b[39;49m\u001b[43margs\u001b[49m\u001b[43m,\u001b[49m\u001b[43m \u001b[49m\u001b[38;5;241;43m*\u001b[39;49m\u001b[38;5;241;43m*\u001b[39;49m\u001b[43mkwargs\u001b[49m\u001b[43m)\u001b[49m\n\u001b[1;32m     65\u001b[0m \u001b[38;5;28;01mexcept\u001b[39;00m \u001b[38;5;167;01mException\u001b[39;00m \u001b[38;5;28;01mas\u001b[39;00m e:  \u001b[38;5;66;03m# pylint: disable=broad-except\u001b[39;00m\n\u001b[1;32m     66\u001b[0m   filtered_tb \u001b[38;5;241m=\u001b[39m _process_traceback_frames(e\u001b[38;5;241m.\u001b[39m__traceback__)\n",
      "File \u001b[0;32m~/mambaforge/envs/mctm/lib/python3.9/site-packages/keras/engine/training.py:1409\u001b[0m, in \u001b[0;36mModel.fit\u001b[0;34m(self, x, y, batch_size, epochs, verbose, callbacks, validation_split, validation_data, shuffle, class_weight, sample_weight, initial_epoch, steps_per_epoch, validation_steps, validation_batch_size, validation_freq, max_queue_size, workers, use_multiprocessing)\u001b[0m\n\u001b[1;32m   1402\u001b[0m \u001b[38;5;28;01mwith\u001b[39;00m tf\u001b[38;5;241m.\u001b[39mprofiler\u001b[38;5;241m.\u001b[39mexperimental\u001b[38;5;241m.\u001b[39mTrace(\n\u001b[1;32m   1403\u001b[0m     \u001b[38;5;124m'\u001b[39m\u001b[38;5;124mtrain\u001b[39m\u001b[38;5;124m'\u001b[39m,\n\u001b[1;32m   1404\u001b[0m     epoch_num\u001b[38;5;241m=\u001b[39mepoch,\n\u001b[1;32m   1405\u001b[0m     step_num\u001b[38;5;241m=\u001b[39mstep,\n\u001b[1;32m   1406\u001b[0m     batch_size\u001b[38;5;241m=\u001b[39mbatch_size,\n\u001b[1;32m   1407\u001b[0m     _r\u001b[38;5;241m=\u001b[39m\u001b[38;5;241m1\u001b[39m):\n\u001b[1;32m   1408\u001b[0m   callbacks\u001b[38;5;241m.\u001b[39mon_train_batch_begin(step)\n\u001b[0;32m-> 1409\u001b[0m   tmp_logs \u001b[38;5;241m=\u001b[39m \u001b[38;5;28;43mself\u001b[39;49m\u001b[38;5;241;43m.\u001b[39;49m\u001b[43mtrain_function\u001b[49m\u001b[43m(\u001b[49m\u001b[43miterator\u001b[49m\u001b[43m)\u001b[49m\n\u001b[1;32m   1410\u001b[0m   \u001b[38;5;28;01mif\u001b[39;00m data_handler\u001b[38;5;241m.\u001b[39mshould_sync:\n\u001b[1;32m   1411\u001b[0m     context\u001b[38;5;241m.\u001b[39masync_wait()\n",
      "File \u001b[0;32m~/mambaforge/envs/mctm/lib/python3.9/site-packages/tensorflow/python/util/traceback_utils.py:150\u001b[0m, in \u001b[0;36mfilter_traceback.<locals>.error_handler\u001b[0;34m(*args, **kwargs)\u001b[0m\n\u001b[1;32m    148\u001b[0m filtered_tb \u001b[38;5;241m=\u001b[39m \u001b[38;5;28;01mNone\u001b[39;00m\n\u001b[1;32m    149\u001b[0m \u001b[38;5;28;01mtry\u001b[39;00m:\n\u001b[0;32m--> 150\u001b[0m   \u001b[38;5;28;01mreturn\u001b[39;00m \u001b[43mfn\u001b[49m\u001b[43m(\u001b[49m\u001b[38;5;241;43m*\u001b[39;49m\u001b[43margs\u001b[49m\u001b[43m,\u001b[49m\u001b[43m \u001b[49m\u001b[38;5;241;43m*\u001b[39;49m\u001b[38;5;241;43m*\u001b[39;49m\u001b[43mkwargs\u001b[49m\u001b[43m)\u001b[49m\n\u001b[1;32m    151\u001b[0m \u001b[38;5;28;01mexcept\u001b[39;00m \u001b[38;5;167;01mException\u001b[39;00m \u001b[38;5;28;01mas\u001b[39;00m e:\n\u001b[1;32m    152\u001b[0m   filtered_tb \u001b[38;5;241m=\u001b[39m _process_traceback_frames(e\u001b[38;5;241m.\u001b[39m__traceback__)\n",
      "File \u001b[0;32m~/mambaforge/envs/mctm/lib/python3.9/site-packages/tensorflow/python/eager/def_function.py:915\u001b[0m, in \u001b[0;36mFunction.__call__\u001b[0;34m(self, *args, **kwds)\u001b[0m\n\u001b[1;32m    912\u001b[0m compiler \u001b[38;5;241m=\u001b[39m \u001b[38;5;124m\"\u001b[39m\u001b[38;5;124mxla\u001b[39m\u001b[38;5;124m\"\u001b[39m \u001b[38;5;28;01mif\u001b[39;00m \u001b[38;5;28mself\u001b[39m\u001b[38;5;241m.\u001b[39m_jit_compile \u001b[38;5;28;01melse\u001b[39;00m \u001b[38;5;124m\"\u001b[39m\u001b[38;5;124mnonXla\u001b[39m\u001b[38;5;124m\"\u001b[39m\n\u001b[1;32m    914\u001b[0m \u001b[38;5;28;01mwith\u001b[39;00m OptionalXlaContext(\u001b[38;5;28mself\u001b[39m\u001b[38;5;241m.\u001b[39m_jit_compile):\n\u001b[0;32m--> 915\u001b[0m   result \u001b[38;5;241m=\u001b[39m \u001b[38;5;28;43mself\u001b[39;49m\u001b[38;5;241;43m.\u001b[39;49m\u001b[43m_call\u001b[49m\u001b[43m(\u001b[49m\u001b[38;5;241;43m*\u001b[39;49m\u001b[43margs\u001b[49m\u001b[43m,\u001b[49m\u001b[43m \u001b[49m\u001b[38;5;241;43m*\u001b[39;49m\u001b[38;5;241;43m*\u001b[39;49m\u001b[43mkwds\u001b[49m\u001b[43m)\u001b[49m\n\u001b[1;32m    917\u001b[0m new_tracing_count \u001b[38;5;241m=\u001b[39m \u001b[38;5;28mself\u001b[39m\u001b[38;5;241m.\u001b[39mexperimental_get_tracing_count()\n\u001b[1;32m    918\u001b[0m without_tracing \u001b[38;5;241m=\u001b[39m (tracing_count \u001b[38;5;241m==\u001b[39m new_tracing_count)\n",
      "File \u001b[0;32m~/mambaforge/envs/mctm/lib/python3.9/site-packages/tensorflow/python/eager/def_function.py:947\u001b[0m, in \u001b[0;36mFunction._call\u001b[0;34m(self, *args, **kwds)\u001b[0m\n\u001b[1;32m    944\u001b[0m   \u001b[38;5;28mself\u001b[39m\u001b[38;5;241m.\u001b[39m_lock\u001b[38;5;241m.\u001b[39mrelease()\n\u001b[1;32m    945\u001b[0m   \u001b[38;5;66;03m# In this case we have created variables on the first call, so we run the\u001b[39;00m\n\u001b[1;32m    946\u001b[0m   \u001b[38;5;66;03m# defunned version which is guaranteed to never create variables.\u001b[39;00m\n\u001b[0;32m--> 947\u001b[0m   \u001b[38;5;28;01mreturn\u001b[39;00m \u001b[38;5;28;43mself\u001b[39;49m\u001b[38;5;241;43m.\u001b[39;49m\u001b[43m_stateless_fn\u001b[49m\u001b[43m(\u001b[49m\u001b[38;5;241;43m*\u001b[39;49m\u001b[43margs\u001b[49m\u001b[43m,\u001b[49m\u001b[43m \u001b[49m\u001b[38;5;241;43m*\u001b[39;49m\u001b[38;5;241;43m*\u001b[39;49m\u001b[43mkwds\u001b[49m\u001b[43m)\u001b[49m  \u001b[38;5;66;03m# pylint: disable=not-callable\u001b[39;00m\n\u001b[1;32m    948\u001b[0m \u001b[38;5;28;01melif\u001b[39;00m \u001b[38;5;28mself\u001b[39m\u001b[38;5;241m.\u001b[39m_stateful_fn \u001b[38;5;129;01mis\u001b[39;00m \u001b[38;5;129;01mnot\u001b[39;00m \u001b[38;5;28;01mNone\u001b[39;00m:\n\u001b[1;32m    949\u001b[0m   \u001b[38;5;66;03m# Release the lock early so that multiple threads can perform the call\u001b[39;00m\n\u001b[1;32m    950\u001b[0m   \u001b[38;5;66;03m# in parallel.\u001b[39;00m\n\u001b[1;32m    951\u001b[0m   \u001b[38;5;28mself\u001b[39m\u001b[38;5;241m.\u001b[39m_lock\u001b[38;5;241m.\u001b[39mrelease()\n",
      "File \u001b[0;32m~/mambaforge/envs/mctm/lib/python3.9/site-packages/tensorflow/python/eager/function.py:2453\u001b[0m, in \u001b[0;36mFunction.__call__\u001b[0;34m(self, *args, **kwargs)\u001b[0m\n\u001b[1;32m   2450\u001b[0m \u001b[38;5;28;01mwith\u001b[39;00m \u001b[38;5;28mself\u001b[39m\u001b[38;5;241m.\u001b[39m_lock:\n\u001b[1;32m   2451\u001b[0m   (graph_function,\n\u001b[1;32m   2452\u001b[0m    filtered_flat_args) \u001b[38;5;241m=\u001b[39m \u001b[38;5;28mself\u001b[39m\u001b[38;5;241m.\u001b[39m_maybe_define_function(args, kwargs)\n\u001b[0;32m-> 2453\u001b[0m \u001b[38;5;28;01mreturn\u001b[39;00m \u001b[43mgraph_function\u001b[49m\u001b[38;5;241;43m.\u001b[39;49m\u001b[43m_call_flat\u001b[49m\u001b[43m(\u001b[49m\n\u001b[1;32m   2454\u001b[0m \u001b[43m    \u001b[49m\u001b[43mfiltered_flat_args\u001b[49m\u001b[43m,\u001b[49m\u001b[43m \u001b[49m\u001b[43mcaptured_inputs\u001b[49m\u001b[38;5;241;43m=\u001b[39;49m\u001b[43mgraph_function\u001b[49m\u001b[38;5;241;43m.\u001b[39;49m\u001b[43mcaptured_inputs\u001b[49m\u001b[43m)\u001b[49m\n",
      "File \u001b[0;32m~/mambaforge/envs/mctm/lib/python3.9/site-packages/tensorflow/python/eager/function.py:1860\u001b[0m, in \u001b[0;36mConcreteFunction._call_flat\u001b[0;34m(self, args, captured_inputs, cancellation_manager)\u001b[0m\n\u001b[1;32m   1856\u001b[0m possible_gradient_type \u001b[38;5;241m=\u001b[39m gradients_util\u001b[38;5;241m.\u001b[39mPossibleTapeGradientTypes(args)\n\u001b[1;32m   1857\u001b[0m \u001b[38;5;28;01mif\u001b[39;00m (possible_gradient_type \u001b[38;5;241m==\u001b[39m gradients_util\u001b[38;5;241m.\u001b[39mPOSSIBLE_GRADIENT_TYPES_NONE\n\u001b[1;32m   1858\u001b[0m     \u001b[38;5;129;01mand\u001b[39;00m executing_eagerly):\n\u001b[1;32m   1859\u001b[0m   \u001b[38;5;66;03m# No tape is watching; skip to running the function.\u001b[39;00m\n\u001b[0;32m-> 1860\u001b[0m   \u001b[38;5;28;01mreturn\u001b[39;00m \u001b[38;5;28mself\u001b[39m\u001b[38;5;241m.\u001b[39m_build_call_outputs(\u001b[38;5;28;43mself\u001b[39;49m\u001b[38;5;241;43m.\u001b[39;49m\u001b[43m_inference_function\u001b[49m\u001b[38;5;241;43m.\u001b[39;49m\u001b[43mcall\u001b[49m\u001b[43m(\u001b[49m\n\u001b[1;32m   1861\u001b[0m \u001b[43m      \u001b[49m\u001b[43mctx\u001b[49m\u001b[43m,\u001b[49m\u001b[43m \u001b[49m\u001b[43margs\u001b[49m\u001b[43m,\u001b[49m\u001b[43m \u001b[49m\u001b[43mcancellation_manager\u001b[49m\u001b[38;5;241;43m=\u001b[39;49m\u001b[43mcancellation_manager\u001b[49m\u001b[43m)\u001b[49m)\n\u001b[1;32m   1862\u001b[0m forward_backward \u001b[38;5;241m=\u001b[39m \u001b[38;5;28mself\u001b[39m\u001b[38;5;241m.\u001b[39m_select_forward_and_backward_functions(\n\u001b[1;32m   1863\u001b[0m     args,\n\u001b[1;32m   1864\u001b[0m     possible_gradient_type,\n\u001b[1;32m   1865\u001b[0m     executing_eagerly)\n\u001b[1;32m   1866\u001b[0m forward_function, args_with_tangents \u001b[38;5;241m=\u001b[39m forward_backward\u001b[38;5;241m.\u001b[39mforward()\n",
      "File \u001b[0;32m~/mambaforge/envs/mctm/lib/python3.9/site-packages/tensorflow/python/eager/function.py:497\u001b[0m, in \u001b[0;36m_EagerDefinedFunction.call\u001b[0;34m(self, ctx, args, cancellation_manager)\u001b[0m\n\u001b[1;32m    495\u001b[0m \u001b[38;5;28;01mwith\u001b[39;00m _InterpolateFunctionError(\u001b[38;5;28mself\u001b[39m):\n\u001b[1;32m    496\u001b[0m   \u001b[38;5;28;01mif\u001b[39;00m cancellation_manager \u001b[38;5;129;01mis\u001b[39;00m \u001b[38;5;28;01mNone\u001b[39;00m:\n\u001b[0;32m--> 497\u001b[0m     outputs \u001b[38;5;241m=\u001b[39m \u001b[43mexecute\u001b[49m\u001b[38;5;241;43m.\u001b[39;49m\u001b[43mexecute\u001b[49m\u001b[43m(\u001b[49m\n\u001b[1;32m    498\u001b[0m \u001b[43m        \u001b[49m\u001b[38;5;28;43mstr\u001b[39;49m\u001b[43m(\u001b[49m\u001b[38;5;28;43mself\u001b[39;49m\u001b[38;5;241;43m.\u001b[39;49m\u001b[43msignature\u001b[49m\u001b[38;5;241;43m.\u001b[39;49m\u001b[43mname\u001b[49m\u001b[43m)\u001b[49m\u001b[43m,\u001b[49m\n\u001b[1;32m    499\u001b[0m \u001b[43m        \u001b[49m\u001b[43mnum_outputs\u001b[49m\u001b[38;5;241;43m=\u001b[39;49m\u001b[38;5;28;43mself\u001b[39;49m\u001b[38;5;241;43m.\u001b[39;49m\u001b[43m_num_outputs\u001b[49m\u001b[43m,\u001b[49m\n\u001b[1;32m    500\u001b[0m \u001b[43m        \u001b[49m\u001b[43minputs\u001b[49m\u001b[38;5;241;43m=\u001b[39;49m\u001b[43margs\u001b[49m\u001b[43m,\u001b[49m\n\u001b[1;32m    501\u001b[0m \u001b[43m        \u001b[49m\u001b[43mattrs\u001b[49m\u001b[38;5;241;43m=\u001b[39;49m\u001b[43mattrs\u001b[49m\u001b[43m,\u001b[49m\n\u001b[1;32m    502\u001b[0m \u001b[43m        \u001b[49m\u001b[43mctx\u001b[49m\u001b[38;5;241;43m=\u001b[39;49m\u001b[43mctx\u001b[49m\u001b[43m)\u001b[49m\n\u001b[1;32m    503\u001b[0m   \u001b[38;5;28;01melse\u001b[39;00m:\n\u001b[1;32m    504\u001b[0m     outputs \u001b[38;5;241m=\u001b[39m execute\u001b[38;5;241m.\u001b[39mexecute_with_cancellation(\n\u001b[1;32m    505\u001b[0m         \u001b[38;5;28mstr\u001b[39m(\u001b[38;5;28mself\u001b[39m\u001b[38;5;241m.\u001b[39msignature\u001b[38;5;241m.\u001b[39mname),\n\u001b[1;32m    506\u001b[0m         num_outputs\u001b[38;5;241m=\u001b[39m\u001b[38;5;28mself\u001b[39m\u001b[38;5;241m.\u001b[39m_num_outputs,\n\u001b[0;32m   (...)\u001b[0m\n\u001b[1;32m    509\u001b[0m         ctx\u001b[38;5;241m=\u001b[39mctx,\n\u001b[1;32m    510\u001b[0m         cancellation_manager\u001b[38;5;241m=\u001b[39mcancellation_manager)\n",
      "File \u001b[0;32m~/mambaforge/envs/mctm/lib/python3.9/site-packages/tensorflow/python/eager/execute.py:54\u001b[0m, in \u001b[0;36mquick_execute\u001b[0;34m(op_name, num_outputs, inputs, attrs, ctx, name)\u001b[0m\n\u001b[1;32m     52\u001b[0m \u001b[38;5;28;01mtry\u001b[39;00m:\n\u001b[1;32m     53\u001b[0m   ctx\u001b[38;5;241m.\u001b[39mensure_initialized()\n\u001b[0;32m---> 54\u001b[0m   tensors \u001b[38;5;241m=\u001b[39m \u001b[43mpywrap_tfe\u001b[49m\u001b[38;5;241;43m.\u001b[39;49m\u001b[43mTFE_Py_Execute\u001b[49m\u001b[43m(\u001b[49m\u001b[43mctx\u001b[49m\u001b[38;5;241;43m.\u001b[39;49m\u001b[43m_handle\u001b[49m\u001b[43m,\u001b[49m\u001b[43m \u001b[49m\u001b[43mdevice_name\u001b[49m\u001b[43m,\u001b[49m\u001b[43m \u001b[49m\u001b[43mop_name\u001b[49m\u001b[43m,\u001b[49m\n\u001b[1;32m     55\u001b[0m \u001b[43m                                      \u001b[49m\u001b[43minputs\u001b[49m\u001b[43m,\u001b[49m\u001b[43m \u001b[49m\u001b[43mattrs\u001b[49m\u001b[43m,\u001b[49m\u001b[43m \u001b[49m\u001b[43mnum_outputs\u001b[49m\u001b[43m)\u001b[49m\n\u001b[1;32m     56\u001b[0m \u001b[38;5;28;01mexcept\u001b[39;00m core\u001b[38;5;241m.\u001b[39m_NotOkStatusException \u001b[38;5;28;01mas\u001b[39;00m e:\n\u001b[1;32m     57\u001b[0m   \u001b[38;5;28;01mif\u001b[39;00m name \u001b[38;5;129;01mis\u001b[39;00m \u001b[38;5;129;01mnot\u001b[39;00m \u001b[38;5;28;01mNone\u001b[39;00m:\n",
      "\u001b[0;31mKeyboardInterrupt\u001b[0m: "
     ]
    }
   ],
   "source": [
    "BATCHSIZE = 128\n",
    "LATENTDIM = 12\n",
    "datashape = ds_info.features[\"image\"].shape\n",
    "\n",
    "seed = 1\n",
    "\n",
    "set_seed(1)\n",
    "\n",
    "# we use 'tanh' activation because 'relu' often leads to singular jacobians.\n",
    "activation = \"tanh\"\n",
    "# encoder model: g(x)\n",
    "g = K.Sequential(\n",
    "    [\n",
    "        K.layers.InputLayer(input_shape=datashape),\n",
    "        K.layers.Flatten(),\n",
    "        K.layers.Dense(LATENTDIM),\n",
    "    ],\n",
    "    name=\"pseudoinverse\",\n",
    ")\n",
    "# decoder model: f(x)\n",
    "f = K.Sequential(\n",
    "    [\n",
    "        K.layers.InputLayer(input_shape=(LATENTDIM,)),\n",
    "        K.layers.Dense(units=datashape[0] * datashape[1], activation=activation),\n",
    "        K.layers.Reshape(datashape),\n",
    "    ],\n",
    "    name=\"isometry\",\n",
    ")\n",
    "\n",
    "model = IAE2D(g, f)\n",
    "model.compile(optimizer=tf.keras.optimizers.Adam(learning_rate=1e-3))\n",
    "model.fit(ds_train_images, epochs=100)"
   ]
  },
  {
   "cell_type": "code",
   "execution_count": null,
   "metadata": {},
   "outputs": [],
   "source": [
    "# CONV_B 32,4,2,1\n",
    "# CONV_B 64,4,2,1\n",
    "# CONV_B 128,4,2,1\n",
    "# CONV_B 256,4,2,0\n",
    "# LIN 2\n"
   ]
  },
  {
   "cell_type": "code",
   "execution_count": 22,
   "metadata": {
    "tags": []
   },
   "outputs": [],
   "source": [
    "BATCHSIZE = 128\n",
    "LATENTDIM = 2\n",
    "datashape = ds_info.features[\"image\"].shape\n",
    "\n",
    "seed = 1\n",
    "\n",
    "set_seed(1)\n",
    "\n",
    "# we use 'tanh' activation because 'relu' often leads to singular jacobians.\n",
    "activation = \"tanh\"\n",
    "# encoder model: g(x)\n",
    "g_cnn = K.Sequential(\n",
    "    [\n",
    "        K.layers.InputLayer(input_shape=datashape),\n",
    "        # CONV_B 32,4,2,1\n",
    "        K.layers.Conv2D(32, kernel_size=4, strides=2, padding='same', activation='linear'),\n",
    "        K.layers.BatchNormalization(),\n",
    "        K.layers.Activation(activation=tf.math.softplus),\n",
    "        # CONV_B 64,4,2,1\n",
    "        K.layers.Conv2D(64, kernel_size=4, strides=2, padding='same', activation='linear'),\n",
    "        K.layers.BatchNormalization(),\n",
    "        K.layers.Activation(activation=tf.math.softplus),\n",
    "        # CONV_B 128,4,2,1\n",
    "        K.layers.Conv2D(128, kernel_size=4, strides=2, padding='same', activation='linear'),\n",
    "        K.layers.BatchNormalization(),\n",
    "        K.layers.Activation(activation=tf.math.softplus),\n",
    "        # CONV_B 256,4,2,0\n",
    "        K.layers.Conv2D(256, kernel_size=4, strides=2, padding='valid', activation='linear'),\n",
    "        K.layers.BatchNormalization(),\n",
    "        K.layers.Activation(activation=tf.math.softplus),\n",
    "        # LIN 2\n",
    "        K.layers.Dense(LATENTDIM, activation='linear'),\n",
    "        K.layers.Flatten(),\n",
    "    ],\n",
    "    name=\"isometry\",\n",
    ")\n",
    "# decoder model: f(x)\n",
    "f_cnn = K.Sequential(\n",
    "    [\n",
    "        K.layers.InputLayer(input_shape=(LATENTDIM,)),\n",
    "        # FC 256\n",
    "        K.layers.Dense(256),\n",
    "        K.layers.Activation(activation=tf.math.softplus),\n",
    "        K.layers.Reshape((1, 1, -1)),\n",
    "        # CONV_T_B 128,4,2,1\n",
    "        K.layers.Conv2DTranspose(128, kernel_size=4, strides=1, padding='valid', activation='linear'),\n",
    "        K.layers.BatchNormalization(),\n",
    "        K.layers.Activation(activation=tf.math.softplus),\n",
    "        # CONV_T_B 64,4,2,1\n",
    "        K.layers.Conv2DTranspose(64, kernel_size=4, strides=2, padding='valid', activation='linear'),\n",
    "        K.layers.BatchNormalization(),\n",
    "        K.layers.Activation(activation=tf.math.softplus),\n",
    "        # CONV_T_B 32,4,2,1\n",
    "        K.layers.Conv2DTranspose(32, kernel_size=4, strides=2, padding='same', activation='linear'),\n",
    "        K.layers.BatchNormalization(),\n",
    "        K.layers.Activation(activation=tf.math.softplus),\n",
    "        # CONV_T_B 1,4,2,3\n",
    "        K.layers.Conv2DTranspose(1, kernel_size=4, strides=2, padding='same', activation='linear'),\n",
    "        K.layers.BatchNormalization(),\n",
    "        K.layers.Activation(activation=tf.math.softplus),\n",
    "    ],\n",
    "    name=\"pseudoinverse\",\n",
    ")"
   ]
  },
  {
   "cell_type": "code",
   "execution_count": null,
   "metadata": {
    "tags": []
   },
   "outputs": [
    {
     "name": "stdout",
     "output_type": "stream",
     "text": [
      "Epoch 1/100\n"
     ]
    },
    {
     "name": "stderr",
     "output_type": "stream",
     "text": [
      "2023-04-03 12:34:27.876307: W tensorflow/core/framework/cpu_allocator_impl.cc:82] Allocation of 128450560 exceeds 10% of free system memory.\n",
      "2023-04-03 12:34:27.929604: W tensorflow/core/framework/cpu_allocator_impl.cc:82] Allocation of 196689920 exceeds 10% of free system memory.\n",
      "2023-04-03 12:34:28.049522: W tensorflow/core/framework/cpu_allocator_impl.cc:82] Allocation of 393379840 exceeds 10% of free system memory.\n",
      "2023-04-03 12:34:28.808474: W tensorflow/core/framework/cpu_allocator_impl.cc:82] Allocation of 196689920 exceeds 10% of free system memory.\n",
      "2023-04-03 12:34:29.165696: W tensorflow/core/framework/cpu_allocator_impl.cc:82] Allocation of 128450560 exceeds 10% of free system memory.\n"
     ]
    }
   ],
   "source": [
    "model = IAE2D(g_cnn, f_cnn)\n",
    "model.compile(optimizer=tf.keras.optimizers.Adam(learning_rate=1e-3))\n",
    "model.fit(ds_train_images, epochs=100)"
   ]
  },
  {
   "cell_type": "code",
   "execution_count": 20,
   "metadata": {
    "tags": []
   },
   "outputs": [
    {
     "name": "stdout",
     "output_type": "stream",
     "text": [
      "Model: \"isometry\"\n",
      "_________________________________________________________________\n",
      " Layer (type)                Output Shape              Param #   \n",
      "=================================================================\n",
      " conv2d_4 (Conv2D)           (None, 14, 14, 32)        544       \n",
      "                                                                 \n",
      " batch_normalization_8 (Batc  (None, 14, 14, 32)       128       \n",
      " hNormalization)                                                 \n",
      "                                                                 \n",
      " activation_9 (Activation)   (None, 14, 14, 32)        0         \n",
      "                                                                 \n",
      " conv2d_5 (Conv2D)           (None, 7, 7, 64)          32832     \n",
      "                                                                 \n",
      " batch_normalization_9 (Batc  (None, 7, 7, 64)         256       \n",
      " hNormalization)                                                 \n",
      "                                                                 \n",
      " activation_10 (Activation)  (None, 7, 7, 64)          0         \n",
      "                                                                 \n",
      " conv2d_6 (Conv2D)           (None, 4, 4, 128)         131200    \n",
      "                                                                 \n",
      " batch_normalization_10 (Bat  (None, 4, 4, 128)        512       \n",
      " chNormalization)                                                \n",
      "                                                                 \n",
      " activation_11 (Activation)  (None, 4, 4, 128)         0         \n",
      "                                                                 \n",
      " conv2d_7 (Conv2D)           (None, 1, 1, 256)         524544    \n",
      "                                                                 \n",
      " batch_normalization_11 (Bat  (None, 1, 1, 256)        1024      \n",
      " chNormalization)                                                \n",
      "                                                                 \n",
      " activation_12 (Activation)  (None, 1, 1, 256)         0         \n",
      "                                                                 \n",
      " dense_2 (Dense)             (None, 1, 1, 2)           514       \n",
      "                                                                 \n",
      " flatten_1 (Flatten)         (None, 2)                 0         \n",
      "                                                                 \n",
      "=================================================================\n",
      "Total params: 691,554\n",
      "Trainable params: 690,594\n",
      "Non-trainable params: 960\n",
      "_________________________________________________________________\n"
     ]
    }
   ],
   "source": [
    "g_cnn.summary()"
   ]
  },
  {
   "cell_type": "code",
   "execution_count": 21,
   "metadata": {
    "tags": []
   },
   "outputs": [
    {
     "name": "stdout",
     "output_type": "stream",
     "text": [
      "Model: \"pseudoinverse\"\n",
      "_________________________________________________________________\n",
      " Layer (type)                Output Shape              Param #   \n",
      "=================================================================\n",
      " dense_3 (Dense)             (None, 256)               768       \n",
      "                                                                 \n",
      " activation_13 (Activation)  (None, 256)               0         \n",
      "                                                                 \n",
      " reshape_1 (Reshape)         (None, 1, 1, 256)         0         \n",
      "                                                                 \n",
      " conv2d_transpose_4 (Conv2DT  (None, 4, 4, 128)        524416    \n",
      " ranspose)                                                       \n",
      "                                                                 \n",
      " batch_normalization_12 (Bat  (None, 4, 4, 128)        512       \n",
      " chNormalization)                                                \n",
      "                                                                 \n",
      " activation_14 (Activation)  (None, 4, 4, 128)         0         \n",
      "                                                                 \n",
      " conv2d_transpose_5 (Conv2DT  (None, 8, 8, 64)         131136    \n",
      " ranspose)                                                       \n",
      "                                                                 \n",
      " batch_normalization_13 (Bat  (None, 8, 8, 64)         256       \n",
      " chNormalization)                                                \n",
      "                                                                 \n",
      " activation_15 (Activation)  (None, 8, 8, 64)          0         \n",
      "                                                                 \n",
      " conv2d_transpose_6 (Conv2DT  (None, 16, 16, 32)       32800     \n",
      " ranspose)                                                       \n",
      "                                                                 \n",
      " batch_normalization_14 (Bat  (None, 16, 16, 32)       128       \n",
      " chNormalization)                                                \n",
      "                                                                 \n",
      " activation_16 (Activation)  (None, 16, 16, 32)        0         \n",
      "                                                                 \n",
      " conv2d_transpose_7 (Conv2DT  (None, 32, 32, 1)        513       \n",
      " ranspose)                                                       \n",
      "                                                                 \n",
      " batch_normalization_15 (Bat  (None, 32, 32, 1)        4         \n",
      " chNormalization)                                                \n",
      "                                                                 \n",
      " activation_17 (Activation)  (None, 32, 32, 1)         0         \n",
      "                                                                 \n",
      "=================================================================\n",
      "Total params: 690,533\n",
      "Trainable params: 690,083\n",
      "Non-trainable params: 450\n",
      "_________________________________________________________________\n"
     ]
    }
   ],
   "source": [
    "f_cnn.summary()"
   ]
  },
  {
   "cell_type": "code",
   "execution_count": 41,
   "metadata": {
    "tags": []
   },
   "outputs": [],
   "source": [
    "from datetime import datetime"
   ]
  },
  {
   "cell_type": "code",
   "execution_count": 66,
   "metadata": {
    "tags": []
   },
   "outputs": [
    {
     "name": "stdout",
     "output_type": "stream",
     "text": [
      "WARNING:tensorflow:Skipping full serialization of Keras layer <__main__.IAE2D object at 0x7f10b01d7580>, because it is not built.\n"
     ]
    },
    {
     "name": "stderr",
     "output_type": "stream",
     "text": [
      "WARNING:tensorflow:Skipping full serialization of Keras layer <__main__.IAE2D object at 0x7f10b01d7580>, because it is not built.\n",
      "WARNING:absl:Found untraced functions such as reshape_4_layer_call_fn, reshape_4_layer_call_and_return_conditional_losses, reshape_5_layer_call_fn, reshape_5_layer_call_and_return_conditional_losses while saving (showing 4 of 4). These functions will not be directly callable after loading.\n"
     ]
    },
    {
     "name": "stdout",
     "output_type": "stream",
     "text": [
      "INFO:tensorflow:Assets written to: 230403_103846_I-AE.keras/assets\n"
     ]
    },
    {
     "name": "stderr",
     "output_type": "stream",
     "text": [
      "INFO:tensorflow:Assets written to: 230403_103846_I-AE.keras/assets\n"
     ]
    }
   ],
   "source": [
    "tf.saved_model.save(model, datetime.now().strftime(\"%y%m%d_%H%M%S_I-AE.keras\"))"
   ]
  },
  {
   "cell_type": "code",
   "execution_count": 19,
   "metadata": {
    "tags": []
   },
   "outputs": [],
   "source": [
    "dims = len(targets)"
   ]
  },
  {
   "cell_type": "code",
   "execution_count": 90,
   "metadata": {
    "tags": []
   },
   "outputs": [],
   "source": [
    "ds_train_encoded = ds_train.map(lambda x, y: (y, g(x)))\n",
    "ds_train_encoded = ds_train_encoded.cache()"
   ]
  },
  {
   "cell_type": "markdown",
   "metadata": {},
   "source": [
    "# Density Model"
   ]
  },
  {
   "cell_type": "markdown",
   "metadata": {},
   "source": [
    "## Parameter Model"
   ]
  },
  {
   "cell_type": "code",
   "execution_count": 67,
   "metadata": {
    "tags": []
   },
   "outputs": [],
   "source": [
    "def get_model(input_shape, output_shape, dist_lambda):\n",
    "    set_seed(1)\n",
    "    inputs = K.Input(input_shape)\n",
    "    x = K.layers.Dense(32, activation=\"relu\", name=\"hidden1\")(inputs)\n",
    "    x = K.layers.Dense(32, activation=\"relu\", name=\"hidden2\")(x)\n",
    "    pv = K.layers.Dense(output_shape, activation=\"linear\", name=\"pv\")(x)\n",
    "    dist = tfp.layers.DistributionLambda(dist_lambda)(pv)\n",
    "    param_model = K.Model(inputs=inputs, outputs=dist)\n",
    "    param_model.summary()\n",
    "    return param_model"
   ]
  },
  {
   "cell_type": "code",
   "execution_count": 86,
   "metadata": {
    "tags": []
   },
   "outputs": [],
   "source": [
    "P = partial(get_model, input_shape=(1,))"
   ]
  },
  {
   "cell_type": "markdown",
   "metadata": {},
   "source": [
    "## Multivariate Normal"
   ]
  },
  {
   "cell_type": "code",
   "execution_count": 87,
   "metadata": {
    "tags": []
   },
   "outputs": [],
   "source": [
    "def get_multivariate_normal_lambda(dims):\n",
    "    def lmbd(pv):\n",
    "        loc = pv[..., :dims]\n",
    "        scale_tril = tfp.bijectors.FillScaleTriL()(pv[..., dims:])\n",
    "        mv_normal = tfd.MultivariateNormalTriL(loc=loc, scale_tril=scale_tril)\n",
    "        return mv_normal\n",
    "\n",
    "    return lmbd"
   ]
  },
  {
   "cell_type": "code",
   "execution_count": 88,
   "metadata": {
    "tags": []
   },
   "outputs": [
    {
     "name": "stdout",
     "output_type": "stream",
     "text": [
      "Model: \"model_1\"\n",
      "_________________________________________________________________\n",
      " Layer (type)                Output Shape              Param #   \n",
      "=================================================================\n",
      " input_6 (InputLayer)        [(None, 1)]               0         \n",
      "                                                                 \n",
      " hidden1 (Dense)             (None, 32)                64        \n",
      "                                                                 \n",
      " hidden2 (Dense)             (None, 32)                1056      \n",
      "                                                                 \n",
      " pv (Dense)                  (None, 90)                2970      \n",
      "                                                                 \n",
      " distribution_lambda_1 (Dist  ((None, 12),             0         \n",
      " ributionLambda)              (None, 12))                        \n",
      "                                                                 \n",
      "=================================================================\n",
      "Total params: 4,090\n",
      "Trainable params: 4,090\n",
      "Non-trainable params: 0\n",
      "_________________________________________________________________\n"
     ]
    }
   ],
   "source": [
    "mn_model = P(\n",
    "    output_shape=LATENTDIM + np.sum(np.arange(LATENTDIM + 1)),\n",
    "    dist_lambda=get_multivariate_normal_lambda(LATENTDIM),\n",
    ")"
   ]
  },
  {
   "cell_type": "code",
   "execution_count": 91,
   "metadata": {
    "scrolled": true,
    "tags": []
   },
   "outputs": [
    {
     "name": "stdout",
     "output_type": "stream",
     "text": [
      "Epoch 1/100\n",
      "469/469 [==============================] - 4s 4ms/step - loss: 503.9847 - lr: 0.0100\n",
      "Epoch 2/100\n",
      "469/469 [==============================] - 2s 4ms/step - loss: 19.4829 - lr: 0.0100\n",
      "Epoch 3/100\n",
      "469/469 [==============================] - 2s 4ms/step - loss: 19.4756 - lr: 0.0100\n",
      "Epoch 4/100\n",
      "469/469 [==============================] - 2s 4ms/step - loss: 19.4644 - lr: 0.0100\n",
      "Epoch 5/100\n",
      "469/469 [==============================] - 2s 4ms/step - loss: 19.4212 - lr: 0.0100\n",
      "Epoch 6/100\n",
      "469/469 [==============================] - 2s 4ms/step - loss: 19.2122 - lr: 0.0100\n",
      "Epoch 7/100\n",
      "469/469 [==============================] - 2s 4ms/step - loss: 18.9327 - lr: 0.0100\n",
      "Epoch 8/100\n",
      "469/469 [==============================] - 2s 4ms/step - loss: 18.7127 - lr: 0.0100\n",
      "Epoch 9/100\n",
      "469/469 [==============================] - 2s 4ms/step - loss: 18.4042 - lr: 0.0100\n",
      "Epoch 10/100\n",
      "469/469 [==============================] - 2s 4ms/step - loss: 18.1398 - lr: 0.0100\n",
      "Epoch 11/100\n",
      "469/469 [==============================] - 2s 4ms/step - loss: 17.9749 - lr: 0.0100\n",
      "Epoch 12/100\n",
      "469/469 [==============================] - 2s 4ms/step - loss: 17.8822 - lr: 0.0100\n",
      "Epoch 13/100\n",
      "469/469 [==============================] - 2s 4ms/step - loss: 17.8350 - lr: 0.0100\n",
      "Epoch 14/100\n",
      "469/469 [==============================] - 2s 4ms/step - loss: 17.7884 - lr: 0.0100\n",
      "Epoch 15/100\n",
      "469/469 [==============================] - 2s 4ms/step - loss: 17.7728 - lr: 0.0100\n",
      "Epoch 16/100\n",
      "469/469 [==============================] - 2s 4ms/step - loss: 17.7663 - lr: 0.0100\n",
      "Epoch 17/100\n",
      "469/469 [==============================] - 2s 4ms/step - loss: 17.7495 - lr: 0.0100\n",
      "Epoch 18/100\n",
      "469/469 [==============================] - 2s 4ms/step - loss: 17.7514 - lr: 0.0100\n",
      "Epoch 19/100\n",
      "469/469 [==============================] - 2s 4ms/step - loss: 17.7405 - lr: 0.0100\n",
      "Epoch 20/100\n",
      "469/469 [==============================] - 2s 4ms/step - loss: 17.6915 - lr: 0.0100\n",
      "Epoch 21/100\n",
      "469/469 [==============================] - 2s 4ms/step - loss: 17.6694 - lr: 0.0100\n",
      "Epoch 22/100\n",
      "469/469 [==============================] - 2s 4ms/step - loss: 17.5678 - lr: 0.0100\n",
      "Epoch 23/100\n",
      "469/469 [==============================] - 2s 4ms/step - loss: 17.5315 - lr: 0.0100\n",
      "Epoch 24/100\n",
      "469/469 [==============================] - 2s 4ms/step - loss: 17.5390 - lr: 0.0100\n",
      "Epoch 25/100\n",
      "469/469 [==============================] - 2s 4ms/step - loss: 17.4910 - lr: 0.0100\n",
      "Epoch 26/100\n",
      "469/469 [==============================] - 2s 4ms/step - loss: 17.5299 - lr: 0.0100\n",
      "Epoch 27/100\n",
      "469/469 [==============================] - 2s 4ms/step - loss: 17.4837 - lr: 0.0100\n",
      "Epoch 28/100\n",
      "143/469 [========>.....................] - ETA: 1s - loss: 17.4382"
     ]
    },
    {
     "ename": "KeyboardInterrupt",
     "evalue": "",
     "output_type": "error",
     "traceback": [
      "\u001b[0;31m---------------------------------------------------------------------------\u001b[0m",
      "\u001b[0;31mKeyboardInterrupt\u001b[0m                         Traceback (most recent call last)",
      "Cell \u001b[0;32mIn[91], line 1\u001b[0m\n\u001b[0;32m----> 1\u001b[0m mn_hist \u001b[38;5;241m=\u001b[39m \u001b[43mfit_distribution\u001b[49m\u001b[43m(\u001b[49m\n\u001b[1;32m      2\u001b[0m \u001b[43m    \u001b[49m\u001b[43mmn_model\u001b[49m\u001b[43m,\u001b[49m\n\u001b[1;32m      3\u001b[0m \u001b[43m    \u001b[49m\u001b[43mx\u001b[49m\u001b[38;5;241;43m=\u001b[39;49m\u001b[43mds_train_encoded\u001b[49m\u001b[43m,\u001b[49m\n\u001b[1;32m      4\u001b[0m \u001b[43m    \u001b[49m\u001b[38;5;66;43;03m#validation_data=(val_x, val_y),\u001b[39;49;00m\n\u001b[1;32m      5\u001b[0m \u001b[43m    \u001b[49m\u001b[43mbatch_size\u001b[49m\u001b[38;5;241;43m=\u001b[39;49m\u001b[38;5;241;43m32\u001b[39;49m\u001b[43m,\u001b[49m\n\u001b[1;32m      6\u001b[0m \u001b[43m    \u001b[49m\u001b[43mepochs\u001b[49m\u001b[38;5;241;43m=\u001b[39;49m\u001b[38;5;241;43m100\u001b[39;49m\u001b[43m,\u001b[49m\n\u001b[1;32m      7\u001b[0m \u001b[43m    \u001b[49m\u001b[38;5;66;43;03m# steps_per_epoch=2,\u001b[39;49;00m\n\u001b[1;32m      8\u001b[0m \u001b[43m    \u001b[49m\u001b[43mlearning_rate\u001b[49m\u001b[38;5;241;43m=\u001b[39;49m\u001b[38;5;241;43m0.01\u001b[39;49m\u001b[43m,\u001b[49m\n\u001b[1;32m      9\u001b[0m \u001b[43m    \u001b[49m\u001b[43mlr_patience\u001b[49m\u001b[38;5;241;43m=\u001b[39;49m\u001b[38;5;241;43m2\u001b[39;49m\u001b[43m,\u001b[49m\n\u001b[1;32m     10\u001b[0m \u001b[43m)\u001b[49m\n",
      "Cell \u001b[0;32mIn[76], line 30\u001b[0m, in \u001b[0;36mfit_distribution\u001b[0;34m(model, learning_rate, lr_patience, monitor, **kwds)\u001b[0m\n\u001b[1;32m     11\u001b[0m model\u001b[38;5;241m.\u001b[39mcompile(\n\u001b[1;32m     12\u001b[0m     optimizer\u001b[38;5;241m=\u001b[39mtf\u001b[38;5;241m.\u001b[39moptimizers\u001b[38;5;241m.\u001b[39mAdam(learning_rate\u001b[38;5;241m=\u001b[39mlearning_rate),\n\u001b[1;32m     13\u001b[0m     loss\u001b[38;5;241m=\u001b[39m\u001b[38;5;28;01mlambda\u001b[39;00m y, dist: \u001b[38;5;241m-\u001b[39mdist\u001b[38;5;241m.\u001b[39mlog_prob(y),\n\u001b[1;32m     14\u001b[0m )\n\u001b[1;32m     16\u001b[0m callbacks \u001b[38;5;241m=\u001b[39m [\n\u001b[1;32m     17\u001b[0m     tf\u001b[38;5;241m.\u001b[39mkeras\u001b[38;5;241m.\u001b[39mcallbacks\u001b[38;5;241m.\u001b[39mReduceLROnPlateau(\n\u001b[1;32m     18\u001b[0m         monitor\u001b[38;5;241m=\u001b[39mmonitor,\n\u001b[0;32m   (...)\u001b[0m\n\u001b[1;32m     27\u001b[0m     tf\u001b[38;5;241m.\u001b[39mkeras\u001b[38;5;241m.\u001b[39mcallbacks\u001b[38;5;241m.\u001b[39mTerminateOnNaN(),\n\u001b[1;32m     28\u001b[0m ]\n\u001b[0;32m---> 30\u001b[0m \u001b[38;5;28;01mreturn\u001b[39;00m \u001b[43mmodel\u001b[49m\u001b[38;5;241;43m.\u001b[39;49m\u001b[43mfit\u001b[49m\u001b[43m(\u001b[49m\n\u001b[1;32m     31\u001b[0m \u001b[43m    \u001b[49m\u001b[43mshuffle\u001b[49m\u001b[38;5;241;43m=\u001b[39;49m\u001b[38;5;28;43;01mTrue\u001b[39;49;00m\u001b[43m,\u001b[49m\n\u001b[1;32m     32\u001b[0m \u001b[43m    \u001b[49m\u001b[43mcallbacks\u001b[49m\u001b[38;5;241;43m=\u001b[39;49m\u001b[43mcallbacks\u001b[49m\u001b[43m,\u001b[49m\n\u001b[1;32m     33\u001b[0m \u001b[43m    \u001b[49m\u001b[38;5;241;43m*\u001b[39;49m\u001b[38;5;241;43m*\u001b[39;49m\u001b[43mkwds\u001b[49m\u001b[43m,\u001b[49m\n\u001b[1;32m     34\u001b[0m \u001b[43m\u001b[49m\u001b[43m)\u001b[49m\n",
      "File \u001b[0;32m~/mambaforge/envs/mctm/lib/python3.9/site-packages/keras/utils/traceback_utils.py:64\u001b[0m, in \u001b[0;36mfilter_traceback.<locals>.error_handler\u001b[0;34m(*args, **kwargs)\u001b[0m\n\u001b[1;32m     62\u001b[0m filtered_tb \u001b[38;5;241m=\u001b[39m \u001b[38;5;28;01mNone\u001b[39;00m\n\u001b[1;32m     63\u001b[0m \u001b[38;5;28;01mtry\u001b[39;00m:\n\u001b[0;32m---> 64\u001b[0m   \u001b[38;5;28;01mreturn\u001b[39;00m \u001b[43mfn\u001b[49m\u001b[43m(\u001b[49m\u001b[38;5;241;43m*\u001b[39;49m\u001b[43margs\u001b[49m\u001b[43m,\u001b[49m\u001b[43m \u001b[49m\u001b[38;5;241;43m*\u001b[39;49m\u001b[38;5;241;43m*\u001b[39;49m\u001b[43mkwargs\u001b[49m\u001b[43m)\u001b[49m\n\u001b[1;32m     65\u001b[0m \u001b[38;5;28;01mexcept\u001b[39;00m \u001b[38;5;167;01mException\u001b[39;00m \u001b[38;5;28;01mas\u001b[39;00m e:  \u001b[38;5;66;03m# pylint: disable=broad-except\u001b[39;00m\n\u001b[1;32m     66\u001b[0m   filtered_tb \u001b[38;5;241m=\u001b[39m _process_traceback_frames(e\u001b[38;5;241m.\u001b[39m__traceback__)\n",
      "File \u001b[0;32m~/mambaforge/envs/mctm/lib/python3.9/site-packages/keras/engine/training.py:1409\u001b[0m, in \u001b[0;36mModel.fit\u001b[0;34m(self, x, y, batch_size, epochs, verbose, callbacks, validation_split, validation_data, shuffle, class_weight, sample_weight, initial_epoch, steps_per_epoch, validation_steps, validation_batch_size, validation_freq, max_queue_size, workers, use_multiprocessing)\u001b[0m\n\u001b[1;32m   1402\u001b[0m \u001b[38;5;28;01mwith\u001b[39;00m tf\u001b[38;5;241m.\u001b[39mprofiler\u001b[38;5;241m.\u001b[39mexperimental\u001b[38;5;241m.\u001b[39mTrace(\n\u001b[1;32m   1403\u001b[0m     \u001b[38;5;124m'\u001b[39m\u001b[38;5;124mtrain\u001b[39m\u001b[38;5;124m'\u001b[39m,\n\u001b[1;32m   1404\u001b[0m     epoch_num\u001b[38;5;241m=\u001b[39mepoch,\n\u001b[1;32m   1405\u001b[0m     step_num\u001b[38;5;241m=\u001b[39mstep,\n\u001b[1;32m   1406\u001b[0m     batch_size\u001b[38;5;241m=\u001b[39mbatch_size,\n\u001b[1;32m   1407\u001b[0m     _r\u001b[38;5;241m=\u001b[39m\u001b[38;5;241m1\u001b[39m):\n\u001b[1;32m   1408\u001b[0m   callbacks\u001b[38;5;241m.\u001b[39mon_train_batch_begin(step)\n\u001b[0;32m-> 1409\u001b[0m   tmp_logs \u001b[38;5;241m=\u001b[39m \u001b[38;5;28;43mself\u001b[39;49m\u001b[38;5;241;43m.\u001b[39;49m\u001b[43mtrain_function\u001b[49m\u001b[43m(\u001b[49m\u001b[43miterator\u001b[49m\u001b[43m)\u001b[49m\n\u001b[1;32m   1410\u001b[0m   \u001b[38;5;28;01mif\u001b[39;00m data_handler\u001b[38;5;241m.\u001b[39mshould_sync:\n\u001b[1;32m   1411\u001b[0m     context\u001b[38;5;241m.\u001b[39masync_wait()\n",
      "File \u001b[0;32m~/mambaforge/envs/mctm/lib/python3.9/site-packages/tensorflow/python/util/traceback_utils.py:150\u001b[0m, in \u001b[0;36mfilter_traceback.<locals>.error_handler\u001b[0;34m(*args, **kwargs)\u001b[0m\n\u001b[1;32m    148\u001b[0m filtered_tb \u001b[38;5;241m=\u001b[39m \u001b[38;5;28;01mNone\u001b[39;00m\n\u001b[1;32m    149\u001b[0m \u001b[38;5;28;01mtry\u001b[39;00m:\n\u001b[0;32m--> 150\u001b[0m   \u001b[38;5;28;01mreturn\u001b[39;00m \u001b[43mfn\u001b[49m\u001b[43m(\u001b[49m\u001b[38;5;241;43m*\u001b[39;49m\u001b[43margs\u001b[49m\u001b[43m,\u001b[49m\u001b[43m \u001b[49m\u001b[38;5;241;43m*\u001b[39;49m\u001b[38;5;241;43m*\u001b[39;49m\u001b[43mkwargs\u001b[49m\u001b[43m)\u001b[49m\n\u001b[1;32m    151\u001b[0m \u001b[38;5;28;01mexcept\u001b[39;00m \u001b[38;5;167;01mException\u001b[39;00m \u001b[38;5;28;01mas\u001b[39;00m e:\n\u001b[1;32m    152\u001b[0m   filtered_tb \u001b[38;5;241m=\u001b[39m _process_traceback_frames(e\u001b[38;5;241m.\u001b[39m__traceback__)\n",
      "File \u001b[0;32m~/mambaforge/envs/mctm/lib/python3.9/site-packages/tensorflow/python/eager/def_function.py:915\u001b[0m, in \u001b[0;36mFunction.__call__\u001b[0;34m(self, *args, **kwds)\u001b[0m\n\u001b[1;32m    912\u001b[0m compiler \u001b[38;5;241m=\u001b[39m \u001b[38;5;124m\"\u001b[39m\u001b[38;5;124mxla\u001b[39m\u001b[38;5;124m\"\u001b[39m \u001b[38;5;28;01mif\u001b[39;00m \u001b[38;5;28mself\u001b[39m\u001b[38;5;241m.\u001b[39m_jit_compile \u001b[38;5;28;01melse\u001b[39;00m \u001b[38;5;124m\"\u001b[39m\u001b[38;5;124mnonXla\u001b[39m\u001b[38;5;124m\"\u001b[39m\n\u001b[1;32m    914\u001b[0m \u001b[38;5;28;01mwith\u001b[39;00m OptionalXlaContext(\u001b[38;5;28mself\u001b[39m\u001b[38;5;241m.\u001b[39m_jit_compile):\n\u001b[0;32m--> 915\u001b[0m   result \u001b[38;5;241m=\u001b[39m \u001b[38;5;28;43mself\u001b[39;49m\u001b[38;5;241;43m.\u001b[39;49m\u001b[43m_call\u001b[49m\u001b[43m(\u001b[49m\u001b[38;5;241;43m*\u001b[39;49m\u001b[43margs\u001b[49m\u001b[43m,\u001b[49m\u001b[43m \u001b[49m\u001b[38;5;241;43m*\u001b[39;49m\u001b[38;5;241;43m*\u001b[39;49m\u001b[43mkwds\u001b[49m\u001b[43m)\u001b[49m\n\u001b[1;32m    917\u001b[0m new_tracing_count \u001b[38;5;241m=\u001b[39m \u001b[38;5;28mself\u001b[39m\u001b[38;5;241m.\u001b[39mexperimental_get_tracing_count()\n\u001b[1;32m    918\u001b[0m without_tracing \u001b[38;5;241m=\u001b[39m (tracing_count \u001b[38;5;241m==\u001b[39m new_tracing_count)\n",
      "File \u001b[0;32m~/mambaforge/envs/mctm/lib/python3.9/site-packages/tensorflow/python/eager/def_function.py:947\u001b[0m, in \u001b[0;36mFunction._call\u001b[0;34m(self, *args, **kwds)\u001b[0m\n\u001b[1;32m    944\u001b[0m   \u001b[38;5;28mself\u001b[39m\u001b[38;5;241m.\u001b[39m_lock\u001b[38;5;241m.\u001b[39mrelease()\n\u001b[1;32m    945\u001b[0m   \u001b[38;5;66;03m# In this case we have created variables on the first call, so we run the\u001b[39;00m\n\u001b[1;32m    946\u001b[0m   \u001b[38;5;66;03m# defunned version which is guaranteed to never create variables.\u001b[39;00m\n\u001b[0;32m--> 947\u001b[0m   \u001b[38;5;28;01mreturn\u001b[39;00m \u001b[38;5;28;43mself\u001b[39;49m\u001b[38;5;241;43m.\u001b[39;49m\u001b[43m_stateless_fn\u001b[49m\u001b[43m(\u001b[49m\u001b[38;5;241;43m*\u001b[39;49m\u001b[43margs\u001b[49m\u001b[43m,\u001b[49m\u001b[43m \u001b[49m\u001b[38;5;241;43m*\u001b[39;49m\u001b[38;5;241;43m*\u001b[39;49m\u001b[43mkwds\u001b[49m\u001b[43m)\u001b[49m  \u001b[38;5;66;03m# pylint: disable=not-callable\u001b[39;00m\n\u001b[1;32m    948\u001b[0m \u001b[38;5;28;01melif\u001b[39;00m \u001b[38;5;28mself\u001b[39m\u001b[38;5;241m.\u001b[39m_stateful_fn \u001b[38;5;129;01mis\u001b[39;00m \u001b[38;5;129;01mnot\u001b[39;00m \u001b[38;5;28;01mNone\u001b[39;00m:\n\u001b[1;32m    949\u001b[0m   \u001b[38;5;66;03m# Release the lock early so that multiple threads can perform the call\u001b[39;00m\n\u001b[1;32m    950\u001b[0m   \u001b[38;5;66;03m# in parallel.\u001b[39;00m\n\u001b[1;32m    951\u001b[0m   \u001b[38;5;28mself\u001b[39m\u001b[38;5;241m.\u001b[39m_lock\u001b[38;5;241m.\u001b[39mrelease()\n",
      "File \u001b[0;32m~/mambaforge/envs/mctm/lib/python3.9/site-packages/tensorflow/python/eager/function.py:2453\u001b[0m, in \u001b[0;36mFunction.__call__\u001b[0;34m(self, *args, **kwargs)\u001b[0m\n\u001b[1;32m   2450\u001b[0m \u001b[38;5;28;01mwith\u001b[39;00m \u001b[38;5;28mself\u001b[39m\u001b[38;5;241m.\u001b[39m_lock:\n\u001b[1;32m   2451\u001b[0m   (graph_function,\n\u001b[1;32m   2452\u001b[0m    filtered_flat_args) \u001b[38;5;241m=\u001b[39m \u001b[38;5;28mself\u001b[39m\u001b[38;5;241m.\u001b[39m_maybe_define_function(args, kwargs)\n\u001b[0;32m-> 2453\u001b[0m \u001b[38;5;28;01mreturn\u001b[39;00m \u001b[43mgraph_function\u001b[49m\u001b[38;5;241;43m.\u001b[39;49m\u001b[43m_call_flat\u001b[49m\u001b[43m(\u001b[49m\n\u001b[1;32m   2454\u001b[0m \u001b[43m    \u001b[49m\u001b[43mfiltered_flat_args\u001b[49m\u001b[43m,\u001b[49m\u001b[43m \u001b[49m\u001b[43mcaptured_inputs\u001b[49m\u001b[38;5;241;43m=\u001b[39;49m\u001b[43mgraph_function\u001b[49m\u001b[38;5;241;43m.\u001b[39;49m\u001b[43mcaptured_inputs\u001b[49m\u001b[43m)\u001b[49m\n",
      "File \u001b[0;32m~/mambaforge/envs/mctm/lib/python3.9/site-packages/tensorflow/python/eager/function.py:1860\u001b[0m, in \u001b[0;36mConcreteFunction._call_flat\u001b[0;34m(self, args, captured_inputs, cancellation_manager)\u001b[0m\n\u001b[1;32m   1856\u001b[0m possible_gradient_type \u001b[38;5;241m=\u001b[39m gradients_util\u001b[38;5;241m.\u001b[39mPossibleTapeGradientTypes(args)\n\u001b[1;32m   1857\u001b[0m \u001b[38;5;28;01mif\u001b[39;00m (possible_gradient_type \u001b[38;5;241m==\u001b[39m gradients_util\u001b[38;5;241m.\u001b[39mPOSSIBLE_GRADIENT_TYPES_NONE\n\u001b[1;32m   1858\u001b[0m     \u001b[38;5;129;01mand\u001b[39;00m executing_eagerly):\n\u001b[1;32m   1859\u001b[0m   \u001b[38;5;66;03m# No tape is watching; skip to running the function.\u001b[39;00m\n\u001b[0;32m-> 1860\u001b[0m   \u001b[38;5;28;01mreturn\u001b[39;00m \u001b[38;5;28mself\u001b[39m\u001b[38;5;241m.\u001b[39m_build_call_outputs(\u001b[38;5;28;43mself\u001b[39;49m\u001b[38;5;241;43m.\u001b[39;49m\u001b[43m_inference_function\u001b[49m\u001b[38;5;241;43m.\u001b[39;49m\u001b[43mcall\u001b[49m\u001b[43m(\u001b[49m\n\u001b[1;32m   1861\u001b[0m \u001b[43m      \u001b[49m\u001b[43mctx\u001b[49m\u001b[43m,\u001b[49m\u001b[43m \u001b[49m\u001b[43margs\u001b[49m\u001b[43m,\u001b[49m\u001b[43m \u001b[49m\u001b[43mcancellation_manager\u001b[49m\u001b[38;5;241;43m=\u001b[39;49m\u001b[43mcancellation_manager\u001b[49m\u001b[43m)\u001b[49m)\n\u001b[1;32m   1862\u001b[0m forward_backward \u001b[38;5;241m=\u001b[39m \u001b[38;5;28mself\u001b[39m\u001b[38;5;241m.\u001b[39m_select_forward_and_backward_functions(\n\u001b[1;32m   1863\u001b[0m     args,\n\u001b[1;32m   1864\u001b[0m     possible_gradient_type,\n\u001b[1;32m   1865\u001b[0m     executing_eagerly)\n\u001b[1;32m   1866\u001b[0m forward_function, args_with_tangents \u001b[38;5;241m=\u001b[39m forward_backward\u001b[38;5;241m.\u001b[39mforward()\n",
      "File \u001b[0;32m~/mambaforge/envs/mctm/lib/python3.9/site-packages/tensorflow/python/eager/function.py:497\u001b[0m, in \u001b[0;36m_EagerDefinedFunction.call\u001b[0;34m(self, ctx, args, cancellation_manager)\u001b[0m\n\u001b[1;32m    495\u001b[0m \u001b[38;5;28;01mwith\u001b[39;00m _InterpolateFunctionError(\u001b[38;5;28mself\u001b[39m):\n\u001b[1;32m    496\u001b[0m   \u001b[38;5;28;01mif\u001b[39;00m cancellation_manager \u001b[38;5;129;01mis\u001b[39;00m \u001b[38;5;28;01mNone\u001b[39;00m:\n\u001b[0;32m--> 497\u001b[0m     outputs \u001b[38;5;241m=\u001b[39m \u001b[43mexecute\u001b[49m\u001b[38;5;241;43m.\u001b[39;49m\u001b[43mexecute\u001b[49m\u001b[43m(\u001b[49m\n\u001b[1;32m    498\u001b[0m \u001b[43m        \u001b[49m\u001b[38;5;28;43mstr\u001b[39;49m\u001b[43m(\u001b[49m\u001b[38;5;28;43mself\u001b[39;49m\u001b[38;5;241;43m.\u001b[39;49m\u001b[43msignature\u001b[49m\u001b[38;5;241;43m.\u001b[39;49m\u001b[43mname\u001b[49m\u001b[43m)\u001b[49m\u001b[43m,\u001b[49m\n\u001b[1;32m    499\u001b[0m \u001b[43m        \u001b[49m\u001b[43mnum_outputs\u001b[49m\u001b[38;5;241;43m=\u001b[39;49m\u001b[38;5;28;43mself\u001b[39;49m\u001b[38;5;241;43m.\u001b[39;49m\u001b[43m_num_outputs\u001b[49m\u001b[43m,\u001b[49m\n\u001b[1;32m    500\u001b[0m \u001b[43m        \u001b[49m\u001b[43minputs\u001b[49m\u001b[38;5;241;43m=\u001b[39;49m\u001b[43margs\u001b[49m\u001b[43m,\u001b[49m\n\u001b[1;32m    501\u001b[0m \u001b[43m        \u001b[49m\u001b[43mattrs\u001b[49m\u001b[38;5;241;43m=\u001b[39;49m\u001b[43mattrs\u001b[49m\u001b[43m,\u001b[49m\n\u001b[1;32m    502\u001b[0m \u001b[43m        \u001b[49m\u001b[43mctx\u001b[49m\u001b[38;5;241;43m=\u001b[39;49m\u001b[43mctx\u001b[49m\u001b[43m)\u001b[49m\n\u001b[1;32m    503\u001b[0m   \u001b[38;5;28;01melse\u001b[39;00m:\n\u001b[1;32m    504\u001b[0m     outputs \u001b[38;5;241m=\u001b[39m execute\u001b[38;5;241m.\u001b[39mexecute_with_cancellation(\n\u001b[1;32m    505\u001b[0m         \u001b[38;5;28mstr\u001b[39m(\u001b[38;5;28mself\u001b[39m\u001b[38;5;241m.\u001b[39msignature\u001b[38;5;241m.\u001b[39mname),\n\u001b[1;32m    506\u001b[0m         num_outputs\u001b[38;5;241m=\u001b[39m\u001b[38;5;28mself\u001b[39m\u001b[38;5;241m.\u001b[39m_num_outputs,\n\u001b[0;32m   (...)\u001b[0m\n\u001b[1;32m    509\u001b[0m         ctx\u001b[38;5;241m=\u001b[39mctx,\n\u001b[1;32m    510\u001b[0m         cancellation_manager\u001b[38;5;241m=\u001b[39mcancellation_manager)\n",
      "File \u001b[0;32m~/mambaforge/envs/mctm/lib/python3.9/site-packages/tensorflow/python/eager/execute.py:54\u001b[0m, in \u001b[0;36mquick_execute\u001b[0;34m(op_name, num_outputs, inputs, attrs, ctx, name)\u001b[0m\n\u001b[1;32m     52\u001b[0m \u001b[38;5;28;01mtry\u001b[39;00m:\n\u001b[1;32m     53\u001b[0m   ctx\u001b[38;5;241m.\u001b[39mensure_initialized()\n\u001b[0;32m---> 54\u001b[0m   tensors \u001b[38;5;241m=\u001b[39m \u001b[43mpywrap_tfe\u001b[49m\u001b[38;5;241;43m.\u001b[39;49m\u001b[43mTFE_Py_Execute\u001b[49m\u001b[43m(\u001b[49m\u001b[43mctx\u001b[49m\u001b[38;5;241;43m.\u001b[39;49m\u001b[43m_handle\u001b[49m\u001b[43m,\u001b[49m\u001b[43m \u001b[49m\u001b[43mdevice_name\u001b[49m\u001b[43m,\u001b[49m\u001b[43m \u001b[49m\u001b[43mop_name\u001b[49m\u001b[43m,\u001b[49m\n\u001b[1;32m     55\u001b[0m \u001b[43m                                      \u001b[49m\u001b[43minputs\u001b[49m\u001b[43m,\u001b[49m\u001b[43m \u001b[49m\u001b[43mattrs\u001b[49m\u001b[43m,\u001b[49m\u001b[43m \u001b[49m\u001b[43mnum_outputs\u001b[49m\u001b[43m)\u001b[49m\n\u001b[1;32m     56\u001b[0m \u001b[38;5;28;01mexcept\u001b[39;00m core\u001b[38;5;241m.\u001b[39m_NotOkStatusException \u001b[38;5;28;01mas\u001b[39;00m e:\n\u001b[1;32m     57\u001b[0m   \u001b[38;5;28;01mif\u001b[39;00m name \u001b[38;5;129;01mis\u001b[39;00m \u001b[38;5;129;01mnot\u001b[39;00m \u001b[38;5;28;01mNone\u001b[39;00m:\n",
      "\u001b[0;31mKeyboardInterrupt\u001b[0m: "
     ]
    }
   ],
   "source": [
    "mn_hist = fit_distribution(\n",
    "    mn_model,\n",
    "    x=ds_train_encoded,\n",
    "    # validation_data=(val_x, val_y),\n",
    "    batch_size=32,\n",
    "    epochs=100,\n",
    "    # steps_per_epoch=2,\n",
    "    learning_rate=0.01,\n",
    "    lr_patience=2,\n",
    ")"
   ]
  },
  {
   "cell_type": "code",
   "execution_count": 99,
   "metadata": {
    "tags": []
   },
   "outputs": [
    {
     "data": {
      "text/plain": [
       "TensorShape([10, 1, 12])"
      ]
     },
     "execution_count": 99,
     "metadata": {},
     "output_type": "execute_result"
    }
   ],
   "source": [
    "mn_samples = mn_model(1.0 * tf.ones((1))).sample(10)\n",
    "mn_samples.shape"
   ]
  },
  {
   "cell_type": "code",
   "execution_count": 101,
   "metadata": {
    "tags": []
   },
   "outputs": [],
   "source": [
    "samples = f(tf.squeeze(mn_samples))"
   ]
  },
  {
   "cell_type": "code",
   "execution_count": 102,
   "metadata": {
    "tags": []
   },
   "outputs": [
    {
     "data": {
      "image/png": "[encoded data removed]",
      "text/plain": [
       "<Figure size 750x400 with 10 Axes>"
      ]
     },
     "metadata": {},
     "output_type": "display_data"
    }
   ],
   "source": [
    "num_row = 2\n",
    "num_col = 5  # plot images\n",
    "fig, axes = plt.subplots(num_row, num_col, figsize=(1.5 * num_col, 2 * num_row))\n",
    "for i in range(num_row * num_col):\n",
    "    ax = axes[i // num_col, i % num_col]\n",
    "    ax.imshow(samples[i], cmap=\"gray\")\n",
    "    ax.set_title(\"Label: {}\".format(1))\n",
    "plt.tight_layout()\n",
    "plt.show()"
   ]
  },
  {
   "cell_type": "markdown",
   "metadata": {},
   "source": [
    "## Multivariate Conditional Transformation Models\n",
    "\n",
    "the model-based density function for $Y$ is therefore\n",
    "\n",
    "$f_{\\boldsymbol{Y}}(\\boldsymbol{y})=\\prod_{j=1}^{J} \\phi_{0,1}\\left(\\lambda_{j 1} \\tilde{h}_{1}\\left(y_{1}\\right)+\\ldots+\\lambda_{j, j-1} \\tilde{h}_{j-1}\\left(y_{j-1}\\right)+\\tilde{h}_{j}\\left(y_{j}\\right)\\right) \\frac{\\partial \\tilde{h}_{j}\\left(y_{j}\\right)}{\\partial y_{j}}$\n",
    "\n",
    "Summarising the model's specifications, our multivariate transformation model is characterised by a set of marginal transformations $\\tilde{h}_{j}\\left(y_{j}\\right), j=1, \\ldots, J$, each applying to only a single component of the vector $\\boldsymbol{Y}$, and by a lower triangular $(J \\times J)$ matrix of transformation coefficients\n",
    "\n",
    "$\\boldsymbol{\\Lambda}=\\left(\\begin{array}{ccccc}1 & & & & 0 \\\\ \\lambda_{21} & 1 & & & \\\\ \\lambda_{31} & \\lambda_{32} & 1 & & \\\\ \\vdots & \\vdots & & \\ddots & \\\\ \\lambda_{J 1} & \\lambda_{J 2} & \\ldots & \\lambda_{J, J-1} & 1\\end{array}\\right)$\n",
    "\n",
    "For the transformation functions $\\tilde{h}_{j}$, the explicit representation\n",
    "$$\n",
    "\\tilde{h}_{j}\\left(Y_{j}\\right)=\\Phi_{0, \\sigma_{j}^{2}}^{-1}\\left(F_{j}\\left(Y_{j}\\right)\\right)=\\tilde{Z}_{j}\n",
    "$$\n",
    "is obtained, where $F_{j}(\\cdot)$ is the univariate marginal CDF of $Y_{j}$. In summary,\n",
    "$$\n",
    "\\begin{aligned}\n",
    "\\mathbb{P}(\\boldsymbol{Y} \\leq \\boldsymbol{y}) &=\\mathbb{P}(\\tilde{\\boldsymbol{Z}} \\leq \\tilde{\\boldsymbol{z}})=\\Phi_{0, \\boldsymbol{\\Sigma}}(\\tilde{\\boldsymbol{z}})=\\Phi_{\\mathbf{0}, \\boldsymbol{\\Sigma}}\\left[\\Phi_{0, \\sigma_{1}^{2}}^{-1}\\left\\{F_{1}\\left(y_{1}\\right)\\right\\}, \\ldots, \\Phi_{0, \\sigma_{J}^{2}}^{-1}\\left\\{F_{J}\\left(y_{J}\\right)\\right\\}\\right] \\\\\n",
    "&=\\Phi_{0, \\boldsymbol{\\Sigma}}\\left(\\tilde{h}_{1}\\left(y_{1}\\right), \\ldots, \\tilde{h}_{J}\\left(y_{J}\\right)\\right)\n",
    "\\end{aligned}\n",
    "$$\n",
    "and therefore the CDF of $\\boldsymbol{Y}$ has exactly the same structure as a Gaussian copula, except that our representation relies on a different parameterisation of $\\boldsymbol{\\Sigma}$ through $\\boldsymbol{\\Sigma}=\\Lambda^{-1} \\Lambda^{-\\top}$."
   ]
  },
  {
   "cell_type": "code",
   "execution_count": 103,
   "metadata": {
    "tags": []
   },
   "outputs": [],
   "source": [
    "def get_mctm_lambda(dims, M, thetas_constrain_fn):\n",
    "    def lmbd(pv):\n",
    "        bs = prefer_static.shape(pv)[:-1]\n",
    "        shape = tf.concat((bs, [dims, M]), 0)\n",
    "\n",
    "        thetas = thetas_constrain_fn(tf.reshape(pv[..., : M * dims], shape))\n",
    "        scale_tril = tfp.bijectors.FillScaleTriL()(pv[..., M * dims :])\n",
    "\n",
    "        mv_normal = tfd.MultivariateNormalTriL(loc=0, scale_tril=scale_tril)\n",
    "\n",
    "        return tfd.TransformedDistribution(\n",
    "            distribution=mv_normal,\n",
    "            bijector=tfb.Invert(BernsteinBijectorLinearExtrapolate(thetas=thetas)),\n",
    "        )\n",
    "\n",
    "    return lmbd"
   ]
  },
  {
   "cell_type": "code",
   "execution_count": 104,
   "metadata": {
    "tags": []
   },
   "outputs": [],
   "source": [
    "thetas_constrain_fn = get_thetas_constrain_fn(\n",
    "    low=-3,\n",
    "    high=3,\n",
    "    smooth_bounds=True,\n",
    "    allow_flexible_bounds=True,\n",
    "    fn=tf.math.softplus,\n",
    "    eps=1e-04,\n",
    ")"
   ]
  },
  {
   "cell_type": "code",
   "execution_count": 105,
   "metadata": {
    "tags": []
   },
   "outputs": [],
   "source": [
    "M = 20\n",
    "output_shape = LATENTDIM * M + np.sum(np.arange(LATENTDIM + 1))"
   ]
  },
  {
   "cell_type": "code",
   "execution_count": 107,
   "metadata": {
    "tags": []
   },
   "outputs": [
    {
     "name": "stdout",
     "output_type": "stream",
     "text": [
      "Model: \"model_2\"\n",
      "_________________________________________________________________\n",
      " Layer (type)                Output Shape              Param #   \n",
      "=================================================================\n",
      " input_7 (InputLayer)        [(None, 1)]               0         \n",
      "                                                                 \n",
      " hidden1 (Dense)             (None, 32)                64        \n",
      "                                                                 \n",
      " hidden2 (Dense)             (None, 32)                1056      \n",
      "                                                                 \n",
      " pv (Dense)                  (None, 318)               10494     \n",
      "                                                                 \n",
      " distribution_lambda_2 (Dist  ((None, 12),             0         \n",
      " ributionLambda)              (None, 12))                        \n",
      "                                                                 \n",
      "=================================================================\n",
      "Total params: 11,614\n",
      "Trainable params: 11,614\n",
      "Non-trainable params: 0\n",
      "_________________________________________________________________\n"
     ]
    }
   ],
   "source": [
    "mctm_model = P(\n",
    "    output_shape=output_shape,\n",
    "    dist_lambda=get_mctm_lambda(LATENTDIM, M, thetas_constrain_fn),\n",
    ")"
   ]
  },
  {
   "cell_type": "code",
   "execution_count": 109,
   "metadata": {
    "scrolled": true,
    "tags": []
   },
   "outputs": [
    {
     "name": "stdout",
     "output_type": "stream",
     "text": [
      "Epoch 1/100\n",
      "469/469 [==============================] - 7s 7ms/step - loss: 156.7173 - lr: 0.1000\n",
      "Epoch 2/100\n",
      "469/469 [==============================] - 3s 7ms/step - loss: 20.8749 - lr: 0.1000\n",
      "Epoch 3/100\n",
      "469/469 [==============================] - 3s 7ms/step - loss: 20.1088 - lr: 0.1000\n",
      "Epoch 4/100\n",
      "469/469 [==============================] - 4s 8ms/step - loss: 19.6912 - lr: 0.1000\n",
      "Epoch 5/100\n",
      "469/469 [==============================] - 4s 8ms/step - loss: 19.4618 - lr: 0.1000\n",
      "Epoch 6/100\n",
      "469/469 [==============================] - 4s 8ms/step - loss: 19.3304 - lr: 0.1000\n",
      "Epoch 7/100\n",
      "469/469 [==============================] - 4s 8ms/step - loss: 19.3033 - lr: 0.1000\n",
      "Epoch 8/100\n",
      "469/469 [==============================] - 4s 8ms/step - loss: 19.0823 - lr: 0.1000\n",
      "Epoch 9/100\n",
      "469/469 [==============================] - 4s 8ms/step - loss: 18.9952 - lr: 0.1000\n",
      "Epoch 10/100\n",
      "469/469 [==============================] - 3s 7ms/step - loss: 18.9365 - lr: 0.1000\n",
      "Epoch 11/100\n",
      "469/469 [==============================] - 4s 8ms/step - loss: 18.8591 - lr: 0.1000\n",
      "Epoch 12/100\n",
      "469/469 [==============================] - 4s 8ms/step - loss: 18.7907 - lr: 0.1000\n",
      "Epoch 13/100\n",
      "469/469 [==============================] - 4s 9ms/step - loss: 18.6223 - lr: 0.1000\n",
      "Epoch 14/100\n",
      "469/469 [==============================] - 4s 8ms/step - loss: 18.4146 - lr: 0.1000\n",
      "Epoch 15/100\n",
      "469/469 [==============================] - 4s 8ms/step - loss: 18.2618 - lr: 0.1000\n",
      "Epoch 16/100\n",
      "469/469 [==============================] - 4s 8ms/step - loss: 18.1424 - lr: 0.1000\n",
      "Epoch 17/100\n",
      "469/469 [==============================] - 4s 8ms/step - loss: 18.0278 - lr: 0.1000\n",
      "Epoch 18/100\n",
      "469/469 [==============================] - 4s 8ms/step - loss: 17.9085 - lr: 0.1000\n",
      "Epoch 19/100\n",
      "469/469 [==============================] - 4s 8ms/step - loss: 17.7872 - lr: 0.1000\n",
      "Epoch 20/100\n",
      "469/469 [==============================] - 4s 8ms/step - loss: 17.6875 - lr: 0.1000\n",
      "Epoch 21/100\n",
      "469/469 [==============================] - 4s 8ms/step - loss: 17.5461 - lr: 0.1000\n",
      "Epoch 22/100\n",
      "469/469 [==============================] - 4s 8ms/step - loss: 17.5247 - lr: 0.1000\n",
      "Epoch 23/100\n",
      "469/469 [==============================] - 4s 8ms/step - loss: 17.6723 - lr: 0.1000\n",
      "Epoch 24/100\n",
      "469/469 [==============================] - 4s 8ms/step - loss: 17.3590 - lr: 0.1000\n",
      "Epoch 25/100\n",
      "469/469 [==============================] - 4s 8ms/step - loss: 18.1603 - lr: 0.1000\n",
      "Epoch 26/100\n",
      "469/469 [==============================] - 4s 9ms/step - loss: 19.1380 - lr: 0.1000\n",
      "Epoch 27/100\n",
      "469/469 [==============================] - 4s 9ms/step - loss: 18.3128 - lr: 0.0100\n",
      "Epoch 28/100\n",
      "469/469 [==============================] - 4s 8ms/step - loss: 18.2082 - lr: 0.0100\n",
      "Epoch 29/100\n",
      "469/469 [==============================] - 4s 9ms/step - loss: 18.1344 - lr: 1.0000e-03\n",
      "Epoch 30/100\n",
      "469/469 [==============================] - 4s 9ms/step - loss: 18.1205 - lr: 1.0000e-03\n"
     ]
    }
   ],
   "source": [
    "mctm_hist = fit_distribution(\n",
    "    mctm_model,\n",
    "    x=ds_train_encoded,\n",
    "    #validation_data=(val_x, val_y),\n",
    "    batch_size=32,\n",
    "    epochs=100,\n",
    "    # steps_per_epoch=2,\n",
    "    learning_rate=0.1,\n",
    "    lr_patience=2,\n",
    ")"
   ]
  },
  {
   "cell_type": "code",
   "execution_count": 111,
   "metadata": {
    "tags": []
   },
   "outputs": [
    {
     "data": {
      "text/plain": [
       "TensorShape([10, 1, 12])"
      ]
     },
     "execution_count": 111,
     "metadata": {},
     "output_type": "execute_result"
    }
   ],
   "source": [
    "mctm_samples = mctm_model(2.0 * tf.ones((1))).sample(10)\n",
    "mctm_samples.shape"
   ]
  },
  {
   "cell_type": "code",
   "execution_count": 114,
   "metadata": {
    "tags": []
   },
   "outputs": [],
   "source": [
    "samples = f(tf.squeeze(mctm_samples))"
   ]
  },
  {
   "cell_type": "code",
   "execution_count": 115,
   "metadata": {
    "tags": []
   },
   "outputs": [
    {
     "data": {
      "image/png": "[encoded data removed]",
      "text/plain": [
       "<Figure size 750x400 with 10 Axes>"
      ]
     },
     "metadata": {},
     "output_type": "display_data"
    }
   ],
   "source": [
    "num_row = 2\n",
    "num_col = 5  # plot images\n",
    "fig, axes = plt.subplots(num_row, num_col, figsize=(1.5 * num_col, 2 * num_row))\n",
    "for i in range(num_row * num_col):\n",
    "    ax = axes[i // num_col, i % num_col]\n",
    "    ax.imshow(samples[i], cmap=\"gray\")\n",
    "    ax.set_title(\"Label: {}\".format(2))\n",
    "plt.tight_layout()\n",
    "plt.show()"
   ]
  },
  {
   "cell_type": "markdown",
   "metadata": {},
   "source": [
    "## MADE + BNF\n",
    "https://github.com/tensorchiefs/bfvi/blob/main/R/multidimensional_script.R"
   ]
  },
  {
   "cell_type": "code",
   "execution_count": 116,
   "metadata": {},
   "outputs": [],
   "source": [
    "def get_bijector_fn(made, thetas_constrain_fn):\n",
    "    def bijector_fn(x, **kwds):\n",
    "        with tf.name_scope(\"bnf_made_bjector\"):\n",
    "            dtype = made.dtype\n",
    "\n",
    "            pvector = made(x, **kwds)\n",
    "            thetas = thetas_constrain_fn(pvector)\n",
    "\n",
    "            return tfb.Invert(BernsteinBijectorLinearExtrapolate(thetas=thetas))\n",
    "\n",
    "    return bijector_fn"
   ]
  },
  {
   "cell_type": "code",
   "execution_count": 118,
   "metadata": {},
   "outputs": [],
   "source": [
    "set_seed(1)\n",
    "event_shape = (LATENTDIM,)\n",
    "conditional_event_shape = (1,)\n",
    "\n",
    "made = tfb.AutoregressiveNetwork(\n",
    "    params=20,\n",
    "    hidden_units=[32, 32],\n",
    "    activation=\"relu\",\n",
    "    event_shape=event_shape,\n",
    "    conditional=True,\n",
    "    conditional_event_shape=conditional_event_shape,\n",
    ")\n",
    "thetas_constrain_fn = get_thetas_constrain_fn(low=-4, high=4, smooth_bounds=True)\n",
    "bijector_fn = get_bijector_fn(made=made, thetas_constrain_fn=thetas_constrain_fn)\n",
    "ar_mctm = tfd.TransformedDistribution(\n",
    "    distribution=tfd.Sample(tfd.Normal(0, 1), sample_shape=[LATENTDIM]),\n",
    "    bijector=tfb.MaskedAutoregressiveFlow(bijector_fn=bijector_fn),\n",
    ")"
   ]
  },
  {
   "cell_type": "code",
   "execution_count": null,
   "metadata": {
    "tags": []
   },
   "outputs": [
    {
     "data": {
      "application/vnd.jupyter.widget-view+json": {
       "model_id": "f04ee1e8155f4189a3af637dbbf50cfa",
       "version_major": 2,
       "version_minor": 0
      },
      "text/plain": [
       "  0%|          | 0/500 [00:00<?, ?it/s]"
      ]
     },
     "metadata": {},
     "output_type": "display_data"
    }
   ],
   "source": [
    "from tqdm.notebook import trange\n",
    "\n",
    "epochs = 500\n",
    "learning_rate = 0.01\n",
    "decay_rate = 0.1\n",
    "\n",
    "set_seed(1)\n",
    "\n",
    "opt = tf.optimizers.Adam(learning_rate)\n",
    "\n",
    "it = trange(epochs)\n",
    "for i in it:\n",
    "    nll = lambda: -ar_mctm.log_prob(\n",
    "        train_y, bijector_kwargs={\"conditional_input\": train_x}\n",
    "    )\n",
    "    opt.minimize(nll, var_list=made.trainable_variables)\n",
    "    it.set_postfix(loss=nll().numpy().mean(), lr=opt.learning_rate.numpy())"
   ]
  },
  {
   "cell_type": "code",
   "execution_count": 56,
   "metadata": {
    "tags": []
   },
   "outputs": [
    {
     "data": {
      "text/plain": [
       "TensorShape([10, 2186, 3])"
      ]
     },
     "execution_count": 56,
     "metadata": {},
     "output_type": "execute_result"
    }
   ],
   "source": [
    "ar_mctm_samples = ar_mctm.sample((10, 1), bijector_kwargs={\"conditional_input\": val_x})\n",
    "ar_mctm_samples.shape"
   ]
  }
 ],
 "metadata": {
  "accelerator": "GPU",
  "cite2c": {
   "citations": {
    "7364384/8XZZR6RX": {
     "DOI": "10.2307/2347385",
     "URL": "https://www.jstor.org/stable/2347385",
     "abstract": "An analysis of data on the duration times and waiting times for eruptions from the Old Faithful Geyser reveals an interesting time series structure. A tentative physical model, derived from Rinehart, is outlined and a corresponding first-order Markov chain examined. It is shown that a second-order models is necessary to explain the observed correlations in the data. A curious clustering effect is apparent in the autocorrelation function when plotted over a large range of lags. Similar patterns are observed in simulations from the fitted second-order model.",
     "accessed": {
      "day": 21,
      "month": 7,
      "year": 2020
     },
     "archive": "JSTOR",
     "author": [
      {
       "family": "Azzalini",
       "given": "A."
      },
      {
       "family": "Bowman",
       "given": "A. W."
      }
     ],
     "container-title": "Journal of the Royal Statistical Society. Series C (Applied Statistics)",
     "id": "7364384/8XZZR6RX",
     "issue": "3",
     "issued": {
      "year": 1990
     },
     "note": "Publisher: [Wiley, Royal Statistical Society]",
     "page": "357-365",
     "page-first": "357",
     "title": "A Look at Some Data on the Old Faithful Geyser",
     "type": "article-journal",
     "volume": "39"
    }
   }
  },
  "colab": {
   "collapsed_sections": [],
   "name": "Bernstein_Loss.ipynb",
   "provenance": [],
   "toc_visible": true
  },
  "kernelspec": {
   "display_name": "Python [conda env:mctm]",
   "language": "python",
   "name": "conda-env-mctm-py"
  },
  "language_info": {
   "codemirror_mode": {
    "name": "ipython",
    "version": 3
   },
   "file_extension": ".py",
   "mimetype": "text/x-python",
   "name": "python",
   "nbconvert_exporter": "python",
   "pygments_lexer": "ipython3",
   "version": "3.9.16"
  },
  "latex_envs": {
   "LaTeX_envs_menu_present": false,
   "autoclose": false,
   "autocomplete": true,
   "bibliofile": "biblio.bib",
   "cite_by": "number",
   "current_citInitial": 1,
   "eqLabelWithNumbers": false,
   "eqNumInitial": 1,
   "hotkeys": {
    "equation": "Ctrl-E",
    "itemize": "Ctrl-I"
   },
   "labels_anchors": true,
   "latex_user_defs": false,
   "report_style_numbering": false,
   "user_envs_cfg": false
  },
  "toc": {
   "base_numbering": 1,
   "nav_menu": {},
   "number_sections": true,
   "sideBar": true,
   "skip_h1_title": true,
   "title_cell": "Table of Contents",
   "title_sidebar": "Contents",
   "toc_cell": true,
   "toc_position": {},
   "toc_section_display": true,
   "toc_window_display": true
  },
  "varInspector": {
   "cols": {
    "lenName": 16,
    "lenType": 16,
    "lenVar": 40
   },
   "kernels_config": {
    "python": {
     "delete_cmd_postfix": "",
     "delete_cmd_prefix": "del ",
     "library": "var_list.py",
     "varRefreshCmd": "print(var_dic_list())"
    },
    "r": {
     "delete_cmd_postfix": ") ",
     "delete_cmd_prefix": "rm(",
     "library": "var_list.r",
     "varRefreshCmd": "cat(var_dic_list()) "
    }
   },
   "position": {
    "height": "864.85px",
    "left": "1615px",
    "right": "20px",
    "top": "120px",
    "width": "283.667px"
   },
   "types_to_exclude": [
    "module",
    "function",
    "builtin_function_or_method",
    "instance",
    "_Feature"
   ],
   "window_display": false
  }
 },
 "nbformat": 4,
 "nbformat_minor": 4
}
