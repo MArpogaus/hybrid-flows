{
 "cells": [
  {
   "cell_type": "code",
   "execution_count": 3,
   "id": "509a1ceb-610b-4213-bd04-8dd6d4bb8100",
   "metadata": {},
   "outputs": [],
   "source": [
    "import mctm"
   ]
  },
  {
   "cell_type": "code",
   "execution_count": 5,
   "id": "04d8d50e-8d9c-4466-ae8f-eff47f7c51d9",
   "metadata": {},
   "outputs": [
    {
     "data": {
      "text/plain": [
       "<module 'mctm' from '/app/src/mctm/__init__.py'>"
      ]
     },
     "execution_count": 5,
     "metadata": {},
     "output_type": "execute_result"
    }
   ],
   "source": [
    "mctm"
   ]
  },
  {
   "cell_type": "code",
   "execution_count": 8,
   "id": "77524bdc-d8ed-4956-8dca-6d050068644d",
   "metadata": {},
   "outputs": [
    {
     "name": "stderr",
     "output_type": "stream",
     "text": [
      "2023-11-07 19:39:46.484686: I tensorflow/core/util/util.cc:169] oneDNN custom operations are on. You may see slightly different numerical results due to floating-point round-off errors from different computation orders. To turn them off, set the environment variable `TF_ENABLE_ONEDNN_OPTS=0`.\n",
      "2023-11-07 19:39:46.488265: W tensorflow/stream_executor/platform/default/dso_loader.cc:64] Could not load dynamic library 'libcudart.so.11.0'; dlerror: libcudart.so.11.0: cannot open shared object file: No such file or directory\n",
      "2023-11-07 19:39:46.488281: I tensorflow/stream_executor/cuda/cudart_stub.cc:29] Ignore above cudart dlerror if you do not have a GPU set up on your machine.\n"
     ]
    }
   ],
   "source": [
    "from mctm import models"
   ]
  },
  {
   "cell_type": "code",
   "execution_count": 9,
   "id": "0c1d356c-b47a-422e-888a-f2506216ebad",
   "metadata": {},
   "outputs": [],
   "source": [
    "from mctm import parameters"
   ]
  },
  {
   "cell_type": "code",
   "execution_count": null,
   "id": "b09632d7-41f1-4891-be0b-3efeb4666bfa",
   "metadata": {},
   "outputs": [],
   "source": []
  }
 ],
 "metadata": {
  "kernelspec": {
   "display_name": "hp_search",
   "language": "python",
   "name": "hp_search"
  },
  "language_info": {
   "codemirror_mode": {
    "name": "ipython",
    "version": 3
   },
   "file_extension": ".py",
   "mimetype": "text/x-python",
   "name": "python",
   "nbconvert_exporter": "python",
   "pygments_lexer": "ipython3",
   "version": "3.8.17"
  }
 },
 "nbformat": 4,
 "nbformat_minor": 5
}
